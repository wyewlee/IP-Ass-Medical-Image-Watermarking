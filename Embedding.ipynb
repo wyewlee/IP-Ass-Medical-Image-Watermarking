{
 "cells": [
  {
   "cell_type": "code",
   "execution_count": null,
   "id": "d3dbeb5d",
   "metadata": {},
   "outputs": [],
   "source": [
    "# #Install this for first time run\n",
    "# !pip install invisible-watermark\n"
   ]
  },
  {
   "cell_type": "markdown",
   "id": "dca05d15",
   "metadata": {},
   "source": [
    "## Encode dwtDCT"
   ]
  },
  {
   "cell_type": "code",
   "execution_count": 10,
   "id": "3f9483d4",
   "metadata": {},
   "outputs": [
    {
     "name": "stdout",
     "output_type": "stream",
     "text": [
      "Done Encoding z 2\n",
      "Done Encoding cz 4\n",
      "Done Encoding chen 8\n",
      "Done Encoding chenzhen 16\n",
      "Done Encoding chenzhenzhenchen 32\n",
      "Done Encoding chenzhenzhenchenjiachengchengjia 64\n"
     ]
    }
   ],
   "source": [
    "import cv2\n",
    "from imwatermark import WatermarkEncoder\n",
    "\n",
    "img_path = 'MRI_1.png'\n",
    "out_img_path = 'out_'+img_path\n",
    "in_char = ['z','cz','chen','chenzhen','chenzhenzhenchen','chenzhenzhenchenjiachengchengjia']\n",
    "n = 1\n",
    "\n",
    "in_img = cv2.imread(img_path)\n",
    "\n",
    "for x in in_char:\n",
    "    output_path = str(n)+'_'+out_img_path\n",
    "    \n",
    "    encoder = WatermarkEncoder()\n",
    "    encoder.set_watermark('bytes', x.encode('utf-8'))\n",
    "    bgr_encoded = encoder.encode(in_img, 'dwtDct')\n",
    "    cv2.imwrite(output_path, bgr_encoded)\n",
    "    \n",
    "    print(\"Done Encoding \"+x + \" \"+ str(n))\n",
    "    n = n*2"
   ]
  },
  {
   "cell_type": "markdown",
   "id": "78360032",
   "metadata": {},
   "source": [
    "## Decode dwtDCT"
   ]
  },
  {
   "cell_type": "code",
   "execution_count": 15,
   "id": "11bb6fdc",
   "metadata": {},
   "outputs": [
    {
     "name": "stdout",
     "output_type": "stream",
     "text": [
      "32_out_MRI_1.png\n"
     ]
    }
   ],
   "source": [
    "print(output_path)"
   ]
  },
  {
   "cell_type": "code",
   "execution_count": 14,
   "id": "eb5fca37",
   "metadata": {},
   "outputs": [
    {
     "name": "stdout",
     "output_type": "stream",
     "text": [
      "z\n",
      "cz\n",
      "chenchen\n",
      "chenzhenchenzhen\n",
      "chenzhenzhenchenchenzhenzhenchen\n",
      "chenzhenzhenchenjiachengchengjiachenzhenzhenchenjiachengchengjia\n"
     ]
    }
   ],
   "source": [
    "import cv2\n",
    "from imwatermark import WatermarkDecoder\n",
    "\n",
    "byte_size=[8,16,64,128,256,512]\n",
    "n=0\n",
    "\n",
    "read_path = ['1_out_MRI_1.png','2_out_MRI_1.png','4_out_MRI_1.png','8_out_MRI_1.png','16_out_MRI_1.png','32_out_MRI_1.png']\n",
    "\n",
    "for x in read_path:\n",
    "    bgr = cv2.imread(x)\n",
    "\n",
    "    decoder = WatermarkDecoder('bytes', byte_size[n])\n",
    "    watermark = decoder.decode(bgr, 'dwtDct')\n",
    "    print(watermark.decode('utf-8'))\n",
    "\n",
    "    n=n+1"
   ]
  }
 ],
 "metadata": {
  "kernelspec": {
   "display_name": "Python 3",
   "language": "python",
   "name": "python3"
  },
  "language_info": {
   "codemirror_mode": {
    "name": "ipython",
    "version": 3
   },
   "file_extension": ".py",
   "mimetype": "text/x-python",
   "name": "python",
   "nbconvert_exporter": "python",
   "pygments_lexer": "ipython3",
   "version": "3.8.10"
  }
 },
 "nbformat": 4,
 "nbformat_minor": 5
}
