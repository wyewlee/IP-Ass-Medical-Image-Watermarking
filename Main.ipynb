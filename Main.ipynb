{
 "cells": [
  {
   "cell_type": "markdown",
   "id": "dc5cbda5",
   "metadata": {},
   "source": [
    "# Part A: Encode"
   ]
  },
  {
   "cell_type": "markdown",
   "id": "58d7bf7b",
   "metadata": {},
   "source": [
    "# Part B: Attacking"
   ]
  },
  {
   "cell_type": "markdown",
   "id": "f3f80e1a",
   "metadata": {},
   "source": [
    "# Part C: Decode"
   ]
  },
  {
   "cell_type": "markdown",
   "id": "59da8d5e",
   "metadata": {},
   "source": []
  },
  {
   "cell_type": "markdown",
   "id": "cce558ca",
   "metadata": {},
   "source": []
  },
  {
   "cell_type": "markdown",
   "id": "b9efa71c",
   "metadata": {},
   "source": []
  },
  {
   "cell_type": "markdown",
   "id": "faa89d68",
   "metadata": {},
   "source": []
  },
  {
   "cell_type": "markdown",
   "id": "c0288368",
   "metadata": {},
   "source": []
  }
 ],
 "metadata": {
  "kernelspec": {
   "display_name": "Python 3",
   "language": "python",
   "name": "python3"
  },
  "language_info": {
   "codemirror_mode": {
    "name": "ipython",
    "version": 3
   },
   "file_extension": ".py",
   "mimetype": "text/x-python",
   "name": "python",
   "nbconvert_exporter": "python",
   "pygments_lexer": "ipython3",
   "version": "3.8.10"
  }
 },
 "nbformat": 4,
 "nbformat_minor": 5
}
