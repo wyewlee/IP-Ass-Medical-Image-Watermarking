{
 "cells": [
  {
   "cell_type": "code",
   "execution_count": 1,
   "metadata": {},
   "outputs": [],
   "source": [
    "import os\n",
    "import cv2\n",
    "from math import log10, sqrt\n",
    "import numpy as np"
   ]
  },
  {
   "cell_type": "code",
   "execution_count": 2,
   "metadata": {},
   "outputs": [],
   "source": [
    "def PSNR(original, compressed):\n",
    "    mse = np.mean((original - compressed) ** 2)\n",
    "    if(mse == 0):  # MSE is zero means no noise is present in the signal .\n",
    "                  # Therefore PSNR have no importance.\n",
    "        return 100\n",
    "    max_pixel = 255.0\n",
    "    psnr = 20 * log10(max_pixel / sqrt(mse))\n",
    "    return psnr"
   ]
  },
  {
   "cell_type": "markdown",
   "metadata": {},
   "source": [
    "# ORI VS ENCODED"
   ]
  },
  {
   "cell_type": "code",
   "execution_count": 3,
   "metadata": {},
   "outputs": [],
   "source": [
    "folder_1 = os.path.join('in_img')\n",
    "folder_2 = os.path.join('out_img')\n",
    "\n",
    "original_img = os.listdir(folder_1)\n",
    "encoded_img = os.listdir(folder_2)\n",
    "\n",
    "# print(original_img)\n",
    "# print(encoded_img)"
   ]
  },
  {
   "cell_type": "code",
   "execution_count": 4,
   "metadata": {},
   "outputs": [],
   "source": [
    "list_1 = []\n",
    "for item in original_img:\n",
    "    img1 = cv2.imread(os.path.join(folder_1,item))\n",
    "    list_1.append(img1)\n",
    "   \n",
    "list_2 = []\n",
    "for folder in encoded_img: \n",
    "    img_list = os.listdir(os.path.join(folder_2,folder)) \n",
    "    \n",
    "    for img_path in img_list: \n",
    "        img2 = cv2.imread(os.path.join(folder_2,folder,img_path))\n",
    "        list_2.append(img2)\n",
    "        \n",
    "encoded_A = list_2[0:20]\n",
    "encoded_B = list_2[20:40]\n",
    "encoded_C = list_2[40:60]\n",
    "encoded_D = list_2[60:80]"
   ]
  },
  {
   "cell_type": "code",
   "execution_count": 5,
   "metadata": {
    "scrolled": true
   },
   "outputs": [
    {
     "name": "stdout",
     "output_type": "stream",
     "text": [
      "PSNR Score for Algo A\n",
      "35.23555785275071\n",
      "35.26424070245705\n",
      "35.23654165321031\n",
      "35.248118840685656\n",
      "35.25629341026411\n",
      "35.48348298092221\n",
      "35.17981567697065\n",
      "35.27249949789702\n",
      "35.18561122559471\n",
      "35.18579755245349\n",
      "35.187910207559455\n",
      "35.21395500423861\n",
      "35.221652202501005\n",
      "35.23025783245831\n",
      "35.15709299704519\n",
      "35.21412933095269\n",
      "35.35862503295658\n",
      "35.2756828863384\n",
      "35.23084951823639\n",
      "35.19746469461722\n"
     ]
    }
   ],
   "source": [
    "length = len(list_1)\n",
    "print(\"PSNR Score for Algo A\")\n",
    "for x in range(length):\n",
    "    img1 = list_1[x]\n",
    "    img2 = encoded_A[x]\n",
    "    psnr_score = PSNR(img1, img2)\n",
    "    print(psnr_score)"
   ]
  },
  {
   "cell_type": "code",
   "execution_count": 6,
   "metadata": {},
   "outputs": [
    {
     "name": "stdout",
     "output_type": "stream",
     "text": [
      "PSNR Score for Algo B\n",
      "43.73633231411843\n",
      "43.67393561272252\n",
      "43.73920057138426\n",
      "43.63360988348322\n",
      "43.607840033127445\n",
      "42.822696134395024\n",
      "43.58593167853976\n",
      "43.66623183109258\n",
      "43.66284808325737\n",
      "43.60048450778352\n",
      "43.5726581367514\n",
      "43.671638490423135\n",
      "43.619057444641314\n",
      "43.61701951190269\n",
      "43.62250810137145\n",
      "43.61106495741653\n",
      "43.74341533909751\n",
      "43.645921509632394\n",
      "43.60380482305993\n",
      "43.585686779706606\n"
     ]
    }
   ],
   "source": [
    "print(\"PSNR Score for Algo B\")\n",
    "for x in range(length):\n",
    "    img1 = list_1[x]\n",
    "    img2 = encoded_B[x]\n",
    "    psnr_score = PSNR(img1, img2)\n",
    "    print(psnr_score)"
   ]
  },
  {
   "cell_type": "code",
   "execution_count": 7,
   "metadata": {},
   "outputs": [
    {
     "name": "stdout",
     "output_type": "stream",
     "text": [
      "PSNR Score for Algo C\n",
      "46.975831534480776\n",
      "46.941055739602064\n",
      "47.0012078086981\n",
      "46.92172967851\n",
      "46.92485422751631\n",
      "44.76811358446418\n",
      "46.89759366334701\n",
      "46.93752738449891\n",
      "46.975368807427635\n",
      "46.919906404305266\n",
      "46.8914437286073\n",
      "46.990058891922416\n",
      "46.93751606452251\n",
      "46.93845932230474\n",
      "46.946928785503026\n",
      "46.913956943044894\n",
      "46.95990759622961\n",
      "46.952451901017014\n",
      "46.927263656947744\n",
      "46.900877454589406\n"
     ]
    }
   ],
   "source": [
    "print(\"PSNR Score for Algo C\")\n",
    "for x in range(length):\n",
    "    img1 = list_1[x]\n",
    "    img2 = encoded_C[x]\n",
    "    psnr_score = PSNR(img1, img2)\n",
    "    print(psnr_score)"
   ]
  },
  {
   "cell_type": "code",
   "execution_count": 8,
   "metadata": {},
   "outputs": [
    {
     "name": "stdout",
     "output_type": "stream",
     "text": [
      "PSNR Score for Algo D\n",
      "40.407926074520894\n",
      "40.392351817006414\n",
      "40.414981123210794\n",
      "40.424273386825824\n",
      "40.424903503588325\n",
      "40.48714085662286\n",
      "40.41293566496119\n",
      "40.43042178835388\n",
      "40.434532774899395\n",
      "40.447967708201354\n",
      "40.44198162596977\n",
      "40.43828559585586\n",
      "40.44130964739519\n",
      "40.439275083922446\n",
      "40.444343031689016\n",
      "40.490274985137006\n",
      "40.44722217123229\n",
      "40.41851827959096\n",
      "40.41036107786119\n",
      "40.42673986234963\n"
     ]
    }
   ],
   "source": [
    "print(\"PSNR Score for Algo D\")\n",
    "for x in range(length):\n",
    "    img1 = list_1[x]\n",
    "    img2 = encoded_D[x]\n",
    "    psnr_score = PSNR(img1, img2)\n",
    "    print(psnr_score)"
   ]
  },
  {
   "cell_type": "markdown",
   "metadata": {},
   "source": [
    "# ENCODED VS ATTACKED "
   ]
  },
  {
   "cell_type": "code",
   "execution_count": 9,
   "metadata": {},
   "outputs": [
    {
     "name": "stdout",
     "output_type": "stream",
     "text": [
      "['algo_a', 'algo_b', 'algo_c', 'algo_d']\n",
      "['MRI_A', 'MRI_B', 'MRI_C', 'MRI_D', 'MRI_E', 'MRI_F', 'MRI_G', 'MRI_H', 'MRI_I', 'MRI_J', 'MRI_K', 'MRI_L', 'MRI_M', 'MRI_N', 'MRI_O', 'MRI_P', 'MRI_Q', 'MRI_R', 'MRI_S', 'MRI_T']\n"
     ]
    }
   ],
   "source": [
    "folder_3 = os.path.join('out_img')\n",
    "folder_4 = os.path.join('out_att')\n",
    "\n",
    "encoded_img = os.listdir(folder_3)\n",
    "attacked_img = os.listdir(folder_4)\n",
    "\n",
    "print(encoded_img)\n",
    "print(attacked_img)"
   ]
  },
  {
   "cell_type": "code",
   "execution_count": 10,
   "metadata": {},
   "outputs": [],
   "source": [
    "list_3 = []\n",
    "for folder in encoded_img: \n",
    "    img_list = os.listdir(os.path.join(folder_3,folder)) \n",
    "    \n",
    "    for img_path in img_list: \n",
    "        img3 = cv2.imread(os.path.join(folder_3,folder,img_path))\n",
    "        list_3.append(img3)\n",
    "#         list_3.append(os.path.join(folder_3,folder,img_path))\n",
    "        \n",
    "encoded_A = list_3[0:20]\n",
    "encoded_B = list_3[20:40]\n",
    "encoded_C = list_3[40:60]\n",
    "encoded_D = list_3[60:80]\n",
    "\n",
    "list_4 = []\n",
    "for folder in attacked_img: \n",
    "    img_list = os.listdir(os.path.join(folder_4,folder)) \n",
    "    \n",
    "    for infolder in img_list:\n",
    "        in_list = os.listdir(os.path.join(folder_4,folder,infolder))\n",
    "    \n",
    "        for img_path in in_list: \n",
    "            img4 = cv2.imread(os.path.join(folder_4,folder,infolder,img_path))\n",
    "            list_4.append(img4)\n",
    "#             list_4.append(os.path.join(folder_4,folder,infolder,img_path))\n",
    "    \n",
    "attacked_1 = list_4[0:18]\n",
    "attacked_2 = list_4[18:36]\n",
    "attacked_3 = list_4[36:54]\n",
    "attacked_4 = list_4[54:72]\n",
    "attacked_5 = list_4[72:90]\n",
    "\n",
    "attacked_6 = list_4[90:108]\n",
    "attacked_7 = list_4[108:126]\n",
    "attacked_8 = list_4[126:144]\n",
    "attacked_9 = list_4[144:162]\n",
    "attacked_10 = list_4[162:180]\n",
    "\n",
    "attacked_11 = list_4[180:198]\n",
    "attacked_12 = list_4[198:216]\n",
    "attacked_13 = list_4[216:234]\n",
    "attacked_14 = list_4[234:252]\n",
    "attacked_15 = list_4[252:270]\n",
    "\n",
    "attacked_16 = list_4[270:288]\n",
    "attacked_17 = list_4[288:306]\n",
    "attacked_18 = list_4[306:324]\n",
    "attacked_19 = list_4[324:342]\n",
    "attacked_20 = list_4[342:360]\n",
    "\n",
    "attacked_21 = list_4[360:378]\n",
    "attacked_22 = list_4[378:396]\n",
    "attacked_23 = list_4[396:414]\n",
    "attacked_24 = list_4[414:432]\n",
    "attacked_25 = list_4[432:450]\n",
    "\n",
    "attacked_26 = list_4[450:468]\n",
    "attacked_27 = list_4[468:486]\n",
    "attacked_28 = list_4[486:504]\n",
    "attacked_29 = list_4[504:522]\n",
    "attacked_30 = list_4[522:540]\n",
    "\n",
    "attacked_31 = list_4[540:558]\n",
    "attacked_32 = list_4[558:576]\n",
    "attacked_33 = list_4[576:594]\n",
    "attacked_34 = list_4[594:612]\n",
    "attacked_35 = list_4[612:630]\n",
    "\n",
    "attacked_36 = list_4[630:648]\n",
    "attacked_37 = list_4[648:666]\n",
    "attacked_38 = list_4[666:684]\n",
    "attacked_39 = list_4[684:702]\n",
    "attacked_40 = list_4[702:720]\n",
    "\n",
    "attacked_41 = list_4[720:738]\n",
    "attacked_42 = list_4[738:756]\n",
    "attacked_43 = list_4[756:774]\n",
    "attacked_44 = list_4[774:792]\n",
    "attacked_45 = list_4[792:810]\n",
    "\n",
    "attacked_46 = list_4[810:828]\n",
    "attacked_47 = list_4[828:846]\n",
    "attacked_48 = list_4[846:864]\n",
    "attacked_49 = list_4[864:882]\n",
    "attacked_50 = list_4[882:900]\n",
    "\n",
    "attacked_52 = list_4[900:918]\n",
    "attacked_52 = list_4[918:936]\n",
    "attacked_53 = list_4[936:954]\n",
    "attacked_54 = list_4[954:972]\n",
    "attacked_55 = list_4[972:990]\n",
    "\n",
    "attacked_56 = list_4[990:1008]\n",
    "attacked_57 = list_4[1008:1026]\n",
    "attacked_58 = list_4[1026:1044]\n",
    "attacked_59 = list_4[1044:1062]\n",
    "attacked_60 = list_4[1062:1080]\n",
    "\n",
    "attacked_61 = list_4[1080:1098]\n",
    "attacked_62 = list_4[1098:1116]\n",
    "attacked_63 = list_4[1116:1134]\n",
    "attacked_64 = list_4[1134:1152]\n",
    "attacked_65 = list_4[1152:1170]\n",
    "\n",
    "attacked_66 = list_4[1170:1188]\n",
    "attacked_67 = list_4[1188:1206]\n",
    "attacked_68 = list_4[1206:1224]\n",
    "attacked_69 = list_4[1224:1242]\n",
    "attacked_70 = list_4[1242:1260]\n",
    "\n",
    "attacked_71 = list_4[1260:1278]\n",
    "attacked_72 = list_4[1278:1296]\n",
    "attacked_73 = list_4[1296:1314]\n",
    "attacked_74 = list_4[1314:1332]\n",
    "attacked_75 = list_4[1332:1350]\n",
    "\n",
    "attacked_76 = list_4[1350:1368]\n",
    "attacked_77 = list_4[1368:1386]\n",
    "attacked_78 = list_4[1386:1404]\n",
    "attacked_79 = list_4[1404:1422]\n",
    "attacked_80 = list_4[1422:1440]"
   ]
  },
  {
   "cell_type": "code",
   "execution_count": null,
   "metadata": {},
   "outputs": [],
   "source": []
  },
  {
   "cell_type": "code",
   "execution_count": null,
   "metadata": {},
   "outputs": [],
   "source": []
  },
  {
   "cell_type": "code",
   "execution_count": 11,
   "metadata": {},
   "outputs": [
    {
     "name": "stdout",
     "output_type": "stream",
     "text": [
      "32.117124313637085\n",
      "32.75456734436376\n",
      "28.241812222264468\n",
      "28.218665905405416\n"
     ]
    },
    {
     "ename": "ValueError",
     "evalue": "operands could not be broadcast together with shapes (471,562,3) (235,562,3) ",
     "output_type": "error",
     "traceback": [
      "\u001b[1;31m---------------------------------------------------------------------------\u001b[0m",
      "\u001b[1;31mValueError\u001b[0m                                Traceback (most recent call last)",
      "\u001b[1;32m<ipython-input-11-a48c88a4a754>\u001b[0m in \u001b[0;36m<module>\u001b[1;34m\u001b[0m\n\u001b[0;32m      6\u001b[0m     \u001b[0mimg1\u001b[0m \u001b[1;33m=\u001b[0m \u001b[0mencoded_A\u001b[0m\u001b[1;33m[\u001b[0m\u001b[1;36m0\u001b[0m\u001b[1;33m]\u001b[0m\u001b[1;33m\u001b[0m\u001b[1;33m\u001b[0m\u001b[0m\n\u001b[0;32m      7\u001b[0m     \u001b[0mimg2\u001b[0m \u001b[1;33m=\u001b[0m \u001b[0mattacked_1\u001b[0m\u001b[1;33m[\u001b[0m\u001b[0mx\u001b[0m\u001b[1;33m]\u001b[0m\u001b[1;33m\u001b[0m\u001b[1;33m\u001b[0m\u001b[0m\n\u001b[1;32m----> 8\u001b[1;33m     \u001b[0mpsnr_score\u001b[0m \u001b[1;33m=\u001b[0m \u001b[0mPSNR\u001b[0m\u001b[1;33m(\u001b[0m\u001b[0mimg1\u001b[0m\u001b[1;33m,\u001b[0m \u001b[0mimg2\u001b[0m\u001b[1;33m)\u001b[0m\u001b[1;33m\u001b[0m\u001b[1;33m\u001b[0m\u001b[0m\n\u001b[0m\u001b[0;32m      9\u001b[0m     \u001b[0mprint\u001b[0m\u001b[1;33m(\u001b[0m\u001b[0mpsnr_score\u001b[0m\u001b[1;33m)\u001b[0m\u001b[1;33m\u001b[0m\u001b[1;33m\u001b[0m\u001b[0m\n",
      "\u001b[1;32m<ipython-input-2-32bcb5150cee>\u001b[0m in \u001b[0;36mPSNR\u001b[1;34m(original, compressed)\u001b[0m\n\u001b[0;32m      1\u001b[0m \u001b[1;32mdef\u001b[0m \u001b[0mPSNR\u001b[0m\u001b[1;33m(\u001b[0m\u001b[0moriginal\u001b[0m\u001b[1;33m,\u001b[0m \u001b[0mcompressed\u001b[0m\u001b[1;33m)\u001b[0m\u001b[1;33m:\u001b[0m\u001b[1;33m\u001b[0m\u001b[1;33m\u001b[0m\u001b[0m\n\u001b[1;32m----> 2\u001b[1;33m     \u001b[0mmse\u001b[0m \u001b[1;33m=\u001b[0m \u001b[0mnp\u001b[0m\u001b[1;33m.\u001b[0m\u001b[0mmean\u001b[0m\u001b[1;33m(\u001b[0m\u001b[1;33m(\u001b[0m\u001b[0moriginal\u001b[0m \u001b[1;33m-\u001b[0m \u001b[0mcompressed\u001b[0m\u001b[1;33m)\u001b[0m \u001b[1;33m**\u001b[0m \u001b[1;36m2\u001b[0m\u001b[1;33m)\u001b[0m\u001b[1;33m\u001b[0m\u001b[1;33m\u001b[0m\u001b[0m\n\u001b[0m\u001b[0;32m      3\u001b[0m     \u001b[1;32mif\u001b[0m\u001b[1;33m(\u001b[0m\u001b[0mmse\u001b[0m \u001b[1;33m==\u001b[0m \u001b[1;36m0\u001b[0m\u001b[1;33m)\u001b[0m\u001b[1;33m:\u001b[0m  \u001b[1;31m# MSE is zero means no noise is present in the signal .\u001b[0m\u001b[1;33m\u001b[0m\u001b[1;33m\u001b[0m\u001b[0m\n\u001b[0;32m      4\u001b[0m                   \u001b[1;31m# Therefore PSNR have no importance.\u001b[0m\u001b[1;33m\u001b[0m\u001b[1;33m\u001b[0m\u001b[1;33m\u001b[0m\u001b[0m\n\u001b[0;32m      5\u001b[0m         \u001b[1;32mreturn\u001b[0m \u001b[1;36m100\u001b[0m\u001b[1;33m\u001b[0m\u001b[1;33m\u001b[0m\u001b[0m\n",
      "\u001b[1;31mValueError\u001b[0m: operands could not be broadcast together with shapes (471,562,3) (235,562,3) "
     ]
    }
   ],
   "source": [
    "length_2 = len(encoded_A)\n",
    "\n",
    "for x in range(length_2):\n",
    "#     print(encoded_A[0])\n",
    "#     print(attacked_1[x])\n",
    "    img1 = encoded_A[0]\n",
    "    img2 = attacked_1[x]\n",
    "    psnr_score = PSNR(img1, img2)\n",
    "    print(psnr_score)"
   ]
  },
  {
   "cell_type": "code",
   "execution_count": null,
   "metadata": {},
   "outputs": [],
   "source": []
  }
 ],
 "metadata": {
  "kernelspec": {
   "display_name": "Python 3",
   "language": "python",
   "name": "python3"
  },
  "language_info": {
   "codemirror_mode": {
    "name": "ipython",
    "version": 3
   },
   "file_extension": ".py",
   "mimetype": "text/x-python",
   "name": "python",
   "nbconvert_exporter": "python",
   "pygments_lexer": "ipython3",
   "version": "3.8.5"
  }
 },
 "nbformat": 4,
 "nbformat_minor": 4
}
