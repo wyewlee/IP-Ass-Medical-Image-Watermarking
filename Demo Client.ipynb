{
 "cells": [
  {
   "cell_type": "markdown",
   "id": "4de5d3b8",
   "metadata": {},
   "source": [
    "# Requirements and Imports"
   ]
  },
  {
   "cell_type": "code",
   "execution_count": 1,
   "id": "9877e665",
   "metadata": {},
   "outputs": [],
   "source": [
    "import cv2"
   ]
  },
  {
   "cell_type": "markdown",
   "id": "197573fb",
   "metadata": {},
   "source": [
    "# Encode"
   ]
  },
  {
   "cell_type": "code",
   "execution_count": null,
   "id": "16c80431",
   "metadata": {},
   "outputs": [],
   "source": []
  },
  {
   "cell_type": "markdown",
   "id": "0fdab376",
   "metadata": {},
   "source": [
    "# Attack"
   ]
  },
  {
   "cell_type": "code",
   "execution_count": null,
   "id": "fcad32e0",
   "metadata": {},
   "outputs": [],
   "source": []
  },
  {
   "cell_type": "markdown",
   "id": "6df70917",
   "metadata": {},
   "source": [
    "# Decode"
   ]
  },
  {
   "cell_type": "code",
   "execution_count": null,
   "id": "5f5876c4",
   "metadata": {},
   "outputs": [],
   "source": []
  },
  {
   "cell_type": "markdown",
   "id": "71ad3b07",
   "metadata": {},
   "source": []
  },
  {
   "cell_type": "markdown",
   "id": "3d6864a6",
   "metadata": {},
   "source": []
  },
  {
   "cell_type": "markdown",
   "id": "d058fbae",
   "metadata": {},
   "source": []
  },
  {
   "cell_type": "markdown",
   "id": "bc7f5aa3",
   "metadata": {},
   "source": []
  }
 ],
 "metadata": {
  "kernelspec": {
   "display_name": "Python 3",
   "language": "python",
   "name": "python3"
  },
  "language_info": {
   "codemirror_mode": {
    "name": "ipython",
    "version": 3
   },
   "file_extension": ".py",
   "mimetype": "text/x-python",
   "name": "python",
   "nbconvert_exporter": "python",
   "pygments_lexer": "ipython3",
   "version": "3.8.10"
  }
 },
 "nbformat": 4,
 "nbformat_minor": 5
}
