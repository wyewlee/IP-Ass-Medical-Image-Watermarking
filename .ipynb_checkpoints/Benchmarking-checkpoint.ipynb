{
 "cells": [
  {
   "cell_type": "code",
   "execution_count": 1,
   "id": "c7e3173c",
   "metadata": {},
   "outputs": [],
   "source": [
    "import cv2\n",
    "import os\n",
    "from skimage.util import random_noise\n",
    "from imwatermark import WatermarkEncoder\n",
    "from blind_watermark import WaterMark\n",
    "from imwatermark import WatermarkDecoder\n",
    "import numpy as np\n",
    "import random\n",
    "import glob\n",
    "import pandas as pd "
   ]
  },
  {
   "cell_type": "code",
   "execution_count": 18,
   "id": "a2eb923a",
   "metadata": {},
   "outputs": [],
   "source": [
    "def clear(): #exit program and purge all test files\n",
    "    files = glob.glob(os.path.join('test','attack_output','*'))\n",
    "    for f in files:\n",
    "        os.remove(f)\n",
    "        print(\"Removed \", f)\n",
    "\n",
    "    files = glob.glob(os.path.join('test','output','*'))\n",
    "    for f in files:\n",
    "        os.remove(f)\n",
    "        print(\"Removed \", f)\n",
    "    print(\"Done clearing all test files.\")"
   ]
  },
  {
   "cell_type": "code",
   "execution_count": 3,
   "id": "4670898b",
   "metadata": {},
   "outputs": [],
   "source": [
    "text = ['z','cz','zhen','chenzhen','chenzhenzhenchen','chenzhenzhenchenjiachengchengjia']\n",
    "4text='zhEN'"
   ]
  },
  {
   "cell_type": "markdown",
   "id": "60f54063",
   "metadata": {},
   "source": [
    "# Char Length\n"
   ]
  },
  {
   "cell_type": "code",
   "execution_count": 7,
   "id": "aef8325f",
   "metadata": {},
   "outputs": [
    {
     "name": "stdout",
     "output_type": "stream",
     "text": [
      "z  < SUCCESS\n",
      "cz  < SUCCESS\n",
      "zhen  < SUCCESS\n",
      "chenzhen  < SUCCESS\n",
      "chenzhenzhenchen  < SUCCESS\n",
      "chenzhenzhenchenjiachengchengjia  < SUCCESS\n"
     ]
    }
   ],
   "source": [
    "#Algorithm A Dwt\n",
    "\n",
    "infolder='test'\n",
    "outfolder=os.path.join(infolder,'output')\n",
    "img_path = os.path.join(infolder,'MRI_A.png')\n",
    "\n",
    "for txt in text:\n",
    "    out_name=txt+'.png'\n",
    "    out_path = os.path.join(outfolder,out_name)\n",
    "    encoder = WaterMark(password_img=1, password_wm=1)\n",
    "    encoder.read_img(img_path)\n",
    "    encoder.read_wm(txt,mode='str')\n",
    "    encoder.embed(out_path)\n",
    "    \n",
    "    print(txt,\" < SUCCESS\")\n",
    "\n",
    "#1-32 char length"
   ]
  },
  {
   "cell_type": "code",
   "execution_count": 10,
   "id": "7cf7ea6c",
   "metadata": {},
   "outputs": [
    {
     "name": "stdout",
     "output_type": "stream",
     "text": [
      "z  < SUCCESS\n",
      "cz  < SUCCESS\n",
      "zhen  < SUCCESS\n",
      "chenzhen  < SUCCESS\n",
      "chenzhenzhenchen  < SUCCESS\n",
      "chenzhenzhenchenjiachengchengjia  < SUCCESS\n"
     ]
    }
   ],
   "source": [
    "#Algorithm B DwtDct\n",
    "\n",
    "infolder='test'\n",
    "outfolder=os.path.join(infolder,'output')\n",
    "img_path = os.path.join(infolder,'MRI_A.png')\n",
    "\n",
    "encoder = WatermarkEncoder()\n",
    "\n",
    "for txt in text:\n",
    "    out_name=txt+'.png'\n",
    "    out_path = os.path.join(outfolder,out_name)\n",
    "    in_img = cv2.imread(img_path)\n",
    "    encoder.set_watermark('bytes', txt.encode('utf-8'))\n",
    "    img_encoded = encoder.encode(in_img,'dwtDct')    \n",
    "    cv2.imwrite(out_path,img_encoded)\n",
    "    \n",
    "    print(txt,\" < SUCCESS\")\n",
    "\n",
    "#1-32 char length"
   ]
  },
  {
   "cell_type": "code",
   "execution_count": 11,
   "id": "0901d845",
   "metadata": {},
   "outputs": [
    {
     "name": "stdout",
     "output_type": "stream",
     "text": [
      "z  < SUCCESS\n",
      "cz  < SUCCESS\n",
      "zhen  < SUCCESS\n",
      "chenzhen  < SUCCESS\n",
      "chenzhenzhenchen  < SUCCESS\n",
      "chenzhenzhenchenjiachengchengjia  < SUCCESS\n"
     ]
    }
   ],
   "source": [
    "#Algorithm C DwtDctSvd\n",
    "\n",
    "infolder='test'\n",
    "outfolder=os.path.join(infolder,'output')\n",
    "img_path = os.path.join(infolder,'MRI_A.png')\n",
    "\n",
    "encoder = WatermarkEncoder()\n",
    "\n",
    "for txt in text:\n",
    "    out_name=txt+'.png'\n",
    "    out_path = os.path.join(outfolder,out_name)\n",
    "    in_img = cv2.imread(img_path)\n",
    "    encoder.set_watermark('bytes', txt.encode('utf-8'))\n",
    "    img_encoded = encoder.encode(in_img,'dwtDctSvd')    \n",
    "    cv2.imwrite(out_path,img_encoded)\n",
    "    \n",
    "    print(txt,\" < SUCCESS\")\n",
    "\n",
    "#1-32 char length"
   ]
  },
  {
   "cell_type": "code",
   "execution_count": 14,
   "id": "fd7f01a1",
   "metadata": {
    "scrolled": true
   },
   "outputs": [
    {
     "name": "stdout",
     "output_type": "stream",
     "text": [
      "z  < FAIL\n",
      "cz  < FAIL\n",
      "zhen  < SUCCESS\n",
      "chenzhen  < FAIL\n",
      "chenzhenzhenchen  < FAIL\n",
      "chenzhenzhenchenjiachengchengjia  < FAIL\n"
     ]
    }
   ],
   "source": [
    "#Algorithm D RivaGan\n",
    "\n",
    "infolder='test'\n",
    "outfolder=os.path.join(infolder,'output')\n",
    "img_path = os.path.join(infolder,'MRI_A.png')\n",
    "\n",
    "encoder = WatermarkEncoder()\n",
    "\n",
    "for txt in text:\n",
    "    out_name=txt+'.png'\n",
    "    out_path = os.path.join(outfolder,out_name)\n",
    "    in_img = cv2.imread(img_path)\n",
    "    try:\n",
    "        encoder.set_watermark('bytes', txt.encode('utf-8'))\n",
    "        encoder.loadModel()\n",
    "        img_encoded = encoder.encode(in_img,'rivaGan')    \n",
    "        cv2.imwrite(out_path,img_encoded)\n",
    "    except:\n",
    "        print(txt,\" < FAIL\")\n",
    "        continue\n",
    "    \n",
    "    print(txt,\" < SUCCESS\")\n",
    "\n",
    "#1-32 char length"
   ]
  },
  {
   "cell_type": "code",
   "execution_count": 19,
   "id": "03322148",
   "metadata": {},
   "outputs": [
    {
     "name": "stdout",
     "output_type": "stream",
     "text": [
      "Removed  test\\output\\chenzhen.png\n",
      "Removed  test\\output\\chenzhenzhenchen.png\n",
      "Removed  test\\output\\chenzhenzhenchenjiachengchengjia.png\n",
      "Removed  test\\output\\cz.png\n",
      "Removed  test\\output\\z.png\n",
      "Removed  test\\output\\zhen.png\n",
      "Done clearing all test files.\n"
     ]
    }
   ],
   "source": [
    "clear()"
   ]
  },
  {
   "cell_type": "markdown",
   "id": "d7f62143",
   "metadata": {},
   "source": [
    "# Case Sensitivity"
   ]
  },
  {
   "cell_type": "markdown",
   "id": "2d85ecec",
   "metadata": {},
   "source": [
    "# Special Character"
   ]
  },
  {
   "cell_type": "markdown",
   "id": "452111c3",
   "metadata": {},
   "source": [
    "# Language"
   ]
  },
  {
   "cell_type": "markdown",
   "id": "ff320c79",
   "metadata": {},
   "source": [
    "# Encoding Time"
   ]
  },
  {
   "cell_type": "markdown",
   "id": "beaf6446",
   "metadata": {},
   "source": [
    "# Decoding Time"
   ]
  },
  {
   "cell_type": "markdown",
   "id": "1704410c",
   "metadata": {},
   "source": [
    "# Size Diferrences After Encoding"
   ]
  },
  {
   "cell_type": "code",
   "execution_count": 15,
   "id": "abc681bd",
   "metadata": {},
   "outputs": [
    {
     "name": "stdout",
     "output_type": "stream",
     "text": [
      "Collecting keytotext\n",
      "  Downloading keytotext-1.5.0-py3-none-any.whl (11 kB)\n",
      "Requirement already satisfied: torch in c:\\users\\yewle\\anaconda3\\lib\\site-packages (from keytotext) (1.9.0)\n",
      "Collecting transformers\n",
      "  Downloading transformers-4.10.2-py3-none-any.whl (2.8 MB)\n",
      "Collecting pytorch_lightning\n",
      "  Downloading pytorch_lightning-1.4.7-py3-none-any.whl (923 kB)\n",
      "Collecting wandb\n",
      "  Downloading wandb-0.12.2-py2.py3-none-any.whl (1.7 MB)\n",
      "Collecting datasets\n",
      "  Downloading datasets-1.12.1-py3-none-any.whl (270 kB)\n",
      "Requirement already satisfied: sentencepiece in c:\\users\\yewle\\anaconda3\\lib\\site-packages (from keytotext) (0.1.95)\n",
      "Collecting xxhash\n",
      "  Downloading xxhash-2.0.2-cp38-cp38-win_amd64.whl (35 kB)\n",
      "Requirement already satisfied: pandas in c:\\users\\yewle\\anaconda3\\lib\\site-packages (from datasets->keytotext) (1.2.5)\n",
      "Collecting aiohttp\n",
      "  Downloading aiohttp-3.7.4.post0-cp38-cp38-win_amd64.whl (635 kB)\n",
      "Requirement already satisfied: requests>=2.19.0 in c:\\users\\yewle\\anaconda3\\lib\\site-packages (from datasets->keytotext) (2.25.1)\n",
      "Collecting huggingface-hub<0.1.0,>=0.0.14\n",
      "  Downloading huggingface_hub-0.0.17-py3-none-any.whl (52 kB)\n",
      "Requirement already satisfied: fsspec[http]>=2021.05.0 in c:\\users\\yewle\\anaconda3\\lib\\site-packages (from datasets->keytotext) (2021.6.0)\n",
      "Collecting pyarrow!=4.0.0,>=1.0.0\n",
      "  Downloading pyarrow-5.0.0-cp38-cp38-win_amd64.whl (14.5 MB)\n",
      "Collecting multiprocess\n",
      "  Downloading multiprocess-0.70.12.2-py38-none-any.whl (128 kB)\n",
      "Collecting tqdm>=4.62.1\n",
      "  Downloading tqdm-4.62.2-py2.py3-none-any.whl (76 kB)\n",
      "Requirement already satisfied: packaging in c:\\users\\yewle\\anaconda3\\lib\\site-packages (from datasets->keytotext) (20.9)\n",
      "Collecting dill\n",
      "  Downloading dill-0.3.4-py2.py3-none-any.whl (86 kB)\n",
      "Requirement already satisfied: numpy>=1.17 in c:\\users\\yewle\\anaconda3\\lib\\site-packages (from datasets->keytotext) (1.20.0)\n",
      "Requirement already satisfied: typing-extensions in c:\\users\\yewle\\anaconda3\\lib\\site-packages (from huggingface-hub<0.1.0,>=0.0.14->datasets->keytotext) (3.7.4.3)\n",
      "Requirement already satisfied: filelock in c:\\users\\yewle\\anaconda3\\lib\\site-packages (from huggingface-hub<0.1.0,>=0.0.14->datasets->keytotext) (3.0.12)\n",
      "Requirement already satisfied: pyparsing>=2.0.2 in c:\\users\\yewle\\anaconda3\\lib\\site-packages (from packaging->datasets->keytotext) (2.4.7)\n",
      "Requirement already satisfied: urllib3<1.27,>=1.21.1 in c:\\users\\yewle\\anaconda3\\lib\\site-packages (from requests>=2.19.0->datasets->keytotext) (1.26.4)\n",
      "Requirement already satisfied: idna<3,>=2.5 in c:\\users\\yewle\\anaconda3\\lib\\site-packages (from requests>=2.19.0->datasets->keytotext) (2.10)\n",
      "Requirement already satisfied: certifi>=2017.4.17 in c:\\users\\yewle\\anaconda3\\lib\\site-packages (from requests>=2.19.0->datasets->keytotext) (2021.5.30)\n",
      "Requirement already satisfied: chardet<5,>=3.0.2 in c:\\users\\yewle\\anaconda3\\lib\\site-packages (from requests>=2.19.0->datasets->keytotext) (4.0.0)\n",
      "Requirement already satisfied: colorama in c:\\users\\yewle\\anaconda3\\lib\\site-packages (from tqdm>=4.62.1->datasets->keytotext) (0.4.4)\n",
      "Collecting async-timeout<4.0,>=3.0\n",
      "  Downloading async_timeout-3.0.1-py3-none-any.whl (8.2 kB)\n",
      "Collecting multidict<7.0,>=4.5\n",
      "  Downloading multidict-5.1.0-cp38-cp38-win_amd64.whl (48 kB)\n",
      "Requirement already satisfied: attrs>=17.3.0 in c:\\users\\yewle\\anaconda3\\lib\\site-packages (from aiohttp->datasets->keytotext) (21.2.0)\n",
      "Collecting yarl<2.0,>=1.0\n",
      "  Downloading yarl-1.6.3-cp38-cp38-win_amd64.whl (125 kB)\n",
      "Requirement already satisfied: python-dateutil>=2.7.3 in c:\\users\\yewle\\anaconda3\\lib\\site-packages (from pandas->datasets->keytotext) (2.8.1)\n",
      "Requirement already satisfied: pytz>=2017.3 in c:\\users\\yewle\\anaconda3\\lib\\site-packages (from pandas->datasets->keytotext) (2021.1)\n",
      "Requirement already satisfied: six>=1.5 in c:\\users\\yewle\\anaconda3\\lib\\site-packages (from python-dateutil>=2.7.3->pandas->datasets->keytotext) (1.15.0)\n",
      "Collecting pytorch_lightning\n",
      "  Downloading pytorch_lightning-1.4.6-py3-none-any.whl (922 kB)\n",
      "  Downloading pytorch_lightning-1.4.5-py3-none-any.whl (919 kB)\n",
      "  Downloading pytorch_lightning-1.4.4-py3-none-any.whl (918 kB)\n",
      "  Downloading pytorch_lightning-1.4.3-py3-none-any.whl (918 kB)\n",
      "  Downloading pytorch_lightning-1.4.2-py3-none-any.whl (916 kB)\n",
      "  Downloading pytorch_lightning-1.4.1-py3-none-any.whl (915 kB)\n",
      "  Downloading pytorch_lightning-1.4.0-py3-none-any.whl (913 kB)\n",
      "  Downloading pytorch_lightning-1.3.8-py3-none-any.whl (813 kB)\n",
      "Requirement already satisfied: pillow!=8.3.0 in c:\\users\\yewle\\anaconda3\\lib\\site-packages (from pytorch_lightning->keytotext) (8.2.0)\n",
      "Collecting torchmetrics>=0.2.0\n",
      "  Downloading torchmetrics-0.5.1-py3-none-any.whl (282 kB)\n",
      "Collecting pytorch_lightning\n",
      "  Downloading pytorch_lightning-1.3.7.post0-py3-none-any.whl (810 kB)\n",
      "  Downloading pytorch_lightning-1.3.7-py3-none-any.whl (810 kB)\n",
      "  Downloading pytorch_lightning-1.3.6-py3-none-any.whl (809 kB)\n",
      "  Downloading pytorch_lightning-1.3.5-py3-none-any.whl (808 kB)\n",
      "  Downloading pytorch_lightning-1.3.4-py3-none-any.whl (806 kB)\n",
      "Collecting pyDeprecate==0.3.0\n",
      "  Downloading pyDeprecate-0.3.0-py3-none-any.whl (10 kB)\n",
      "Requirement already satisfied: PyYAML<=5.4.1,>=5.1 in c:\\users\\yewle\\anaconda3\\lib\\site-packages (from pytorch_lightning->keytotext) (5.4.1)\n",
      "Collecting future>=0.17.1\n",
      "  Downloading future-0.18.2.tar.gz (829 kB)\n",
      "Requirement already satisfied: tensorboard!=2.5.0,>=2.2.0 in c:\\users\\yewle\\anaconda3\\lib\\site-packages (from pytorch_lightning->keytotext) (2.6.0)\n",
      "Requirement already satisfied: google-auth<2,>=1.6.3 in c:\\users\\yewle\\anaconda3\\lib\\site-packages (from tensorboard!=2.5.0,>=2.2.0->pytorch_lightning->keytotext) (1.27.0)\n",
      "Requirement already satisfied: protobuf>=3.6.0 in c:\\users\\yewle\\anaconda3\\lib\\site-packages (from tensorboard!=2.5.0,>=2.2.0->pytorch_lightning->keytotext) (3.14.0)\n",
      "Requirement already satisfied: tensorboard-plugin-wit>=1.6.0 in c:\\users\\yewle\\anaconda3\\lib\\site-packages (from tensorboard!=2.5.0,>=2.2.0->pytorch_lightning->keytotext) (1.8.0)\n",
      "Requirement already satisfied: tensorboard-data-server<0.7.0,>=0.6.0 in c:\\users\\yewle\\anaconda3\\lib\\site-packages (from tensorboard!=2.5.0,>=2.2.0->pytorch_lightning->keytotext) (0.6.1)\n",
      "Requirement already satisfied: absl-py>=0.4 in c:\\users\\yewle\\anaconda3\\lib\\site-packages (from tensorboard!=2.5.0,>=2.2.0->pytorch_lightning->keytotext) (0.12.0)\n",
      "Requirement already satisfied: grpcio>=1.24.3 in c:\\users\\yewle\\anaconda3\\lib\\site-packages (from tensorboard!=2.5.0,>=2.2.0->pytorch_lightning->keytotext) (1.39.0)\n",
      "Requirement already satisfied: google-auth-oauthlib<0.5,>=0.4.1 in c:\\users\\yewle\\anaconda3\\lib\\site-packages (from tensorboard!=2.5.0,>=2.2.0->pytorch_lightning->keytotext) (0.4.4)\n",
      "Requirement already satisfied: setuptools>=41.0.0 in c:\\users\\yewle\\anaconda3\\lib\\site-packages (from tensorboard!=2.5.0,>=2.2.0->pytorch_lightning->keytotext) (52.0.0.post20210125)\n",
      "Requirement already satisfied: wheel>=0.26 in c:\\users\\yewle\\anaconda3\\lib\\site-packages (from tensorboard!=2.5.0,>=2.2.0->pytorch_lightning->keytotext) (0.36.2)\n",
      "Requirement already satisfied: werkzeug>=0.11.15 in c:\\users\\yewle\\anaconda3\\lib\\site-packages (from tensorboard!=2.5.0,>=2.2.0->pytorch_lightning->keytotext) (1.0.1)\n",
      "Requirement already satisfied: markdown>=2.6.8 in c:\\users\\yewle\\anaconda3\\lib\\site-packages (from tensorboard!=2.5.0,>=2.2.0->pytorch_lightning->keytotext) (3.3.4)\n",
      "Requirement already satisfied: pyasn1-modules>=0.2.1 in c:\\users\\yewle\\anaconda3\\lib\\site-packages (from google-auth<2,>=1.6.3->tensorboard!=2.5.0,>=2.2.0->pytorch_lightning->keytotext) (0.2.8)\n",
      "Requirement already satisfied: rsa<5,>=3.1.4 in c:\\users\\yewle\\anaconda3\\lib\\site-packages (from google-auth<2,>=1.6.3->tensorboard!=2.5.0,>=2.2.0->pytorch_lightning->keytotext) (4.6)\n",
      "Requirement already satisfied: cachetools<5.0,>=2.0.0 in c:\\users\\yewle\\anaconda3\\lib\\site-packages (from google-auth<2,>=1.6.3->tensorboard!=2.5.0,>=2.2.0->pytorch_lightning->keytotext) (4.2.1)\n",
      "Requirement already satisfied: requests-oauthlib>=0.7.0 in c:\\users\\yewle\\anaconda3\\lib\\site-packages (from google-auth-oauthlib<0.5,>=0.4.1->tensorboard!=2.5.0,>=2.2.0->pytorch_lightning->keytotext) (1.3.0)\n",
      "Requirement already satisfied: pyasn1<0.5.0,>=0.4.6 in c:\\users\\yewle\\anaconda3\\lib\\site-packages (from pyasn1-modules>=0.2.1->google-auth<2,>=1.6.3->tensorboard!=2.5.0,>=2.2.0->pytorch_lightning->keytotext) (0.4.8)\n",
      "Requirement already satisfied: oauthlib>=3.0.0 in c:\\users\\yewle\\anaconda3\\lib\\site-packages (from requests-oauthlib>=0.7.0->google-auth-oauthlib<0.5,>=0.4.1->tensorboard!=2.5.0,>=2.2.0->pytorch_lightning->keytotext) (3.1.0)\n",
      "Collecting tokenizers<0.11,>=0.10.1\n",
      "  Downloading tokenizers-0.10.3-cp38-cp38-win_amd64.whl (2.0 MB)\n",
      "Collecting sacremoses\n",
      "  Downloading sacremoses-0.0.45-py3-none-any.whl (895 kB)\n",
      "Requirement already satisfied: regex!=2019.12.17 in c:\\users\\yewle\\anaconda3\\lib\\site-packages (from transformers->keytotext) (2021.4.4)\n",
      "Requirement already satisfied: joblib in c:\\users\\yewle\\anaconda3\\lib\\site-packages (from sacremoses->transformers->keytotext) (1.0.1)\n",
      "Requirement already satisfied: click in c:\\users\\yewle\\anaconda3\\lib\\site-packages (from sacremoses->transformers->keytotext) (7.1.2)\n",
      "Collecting promise<3,>=2.0\n",
      "  Downloading promise-2.3.tar.gz (19 kB)\n",
      "Collecting shortuuid>=0.5.0\n",
      "  Downloading shortuuid-1.0.1-py3-none-any.whl (7.5 kB)\n",
      "Collecting sentry-sdk>=1.0.0\n",
      "  Downloading sentry_sdk-1.3.1-py2.py3-none-any.whl (133 kB)\n",
      "Collecting docker-pycreds>=0.4.0\n",
      "  Downloading docker_pycreds-0.4.0-py2.py3-none-any.whl (9.0 kB)\n",
      "Requirement already satisfied: pathtools in c:\\users\\yewle\\anaconda3\\lib\\site-packages (from wandb->keytotext) (0.1.2)\n",
      "Collecting GitPython>=1.0.0\n",
      "  Downloading GitPython-3.1.24-py3-none-any.whl (180 kB)\n",
      "Requirement already satisfied: configparser>=3.8.1 in c:\\users\\yewle\\anaconda3\\lib\\site-packages (from wandb->keytotext) (5.0.1)\n",
      "Collecting subprocess32>=3.5.3\n",
      "  Downloading subprocess32-3.5.4.tar.gz (97 kB)\n",
      "Collecting yaspin>=1.0.0\n",
      "  Downloading yaspin-2.1.0-py3-none-any.whl (18 kB)\n",
      "Requirement already satisfied: psutil>=5.0.0 in c:\\users\\yewle\\anaconda3\\lib\\site-packages (from wandb->keytotext) (5.8.0)\n",
      "Collecting gitdb<5,>=4.0.1\n",
      "  Downloading gitdb-4.0.7-py3-none-any.whl (63 kB)\n",
      "Collecting smmap<5,>=3.0.1\n",
      "  Downloading smmap-4.0.0-py2.py3-none-any.whl (24 kB)\n",
      "Requirement already satisfied: termcolor<2.0.0,>=1.1.0 in c:\\users\\yewle\\anaconda3\\lib\\site-packages (from yaspin>=1.0.0->wandb->keytotext) (1.1.0)\n",
      "Building wheels for collected packages: future, promise, subprocess32\n",
      "  Building wheel for future (setup.py): started\n",
      "  Building wheel for future (setup.py): finished with status 'done'\n",
      "  Created wheel for future: filename=future-0.18.2-py3-none-any.whl size=491059 sha256=b175dadb4d4525ef50deb3d697874231cee3c327c5ce2bac5405207da1ef4087\n",
      "  Stored in directory: c:\\users\\yewle\\appdata\\local\\pip\\cache\\wheels\\8e\\70\\28\\3d6ccd6e315f65f245da085482a2e1c7d14b90b30f239e2cf4\n",
      "  Building wheel for promise (setup.py): started\n",
      "  Building wheel for promise (setup.py): finished with status 'done'\n",
      "  Created wheel for promise: filename=promise-2.3-py3-none-any.whl size=21494 sha256=011e587234409e331f0ad779cb0603009b787fafa0dc0e591f6a80eb67cf0223\n",
      "  Stored in directory: c:\\users\\yewle\\appdata\\local\\pip\\cache\\wheels\\54\\aa\\01\\724885182f93150035a2a91bce34a12877e8067a97baaf5dc8\n",
      "  Building wheel for subprocess32 (setup.py): started\n",
      "  Building wheel for subprocess32 (setup.py): finished with status 'done'\n",
      "  Created wheel for subprocess32: filename=subprocess32-3.5.4-py3-none-any.whl size=6488 sha256=8ed8bccdf04335c50d26434202c2076e232086c0cb1a62fb1fc5f6fd6a27c74b\n",
      "  Stored in directory: c:\\users\\yewle\\appdata\\local\\pip\\cache\\wheels\\9f\\69\\d1\\50b39b308a87998eaf5c1d9095e5a5bd2ad98501e2b7936d36\n",
      "Successfully built future promise subprocess32\n",
      "Installing collected packages: multidict, yarl, smmap, async-timeout, tqdm, gitdb, dill, aiohttp, yaspin, xxhash, torchmetrics, tokenizers, subprocess32, shortuuid, sentry-sdk, sacremoses, pyDeprecate, pyarrow, promise, multiprocess, huggingface-hub, GitPython, future, docker-pycreds, wandb, transformers, pytorch-lightning, datasets, keytotext\n",
      "  Attempting uninstall: tqdm\n",
      "    Found existing installation: tqdm 4.61.1\n",
      "    Uninstalling tqdm-4.61.1:\n",
      "      Successfully uninstalled tqdm-4.61.1\n",
      "  Attempting uninstall: future\n",
      "    Found existing installation: future 0.16.0\n",
      "    Uninstalling future-0.16.0:\n",
      "      Successfully uninstalled future-0.16.0\n",
      "Successfully installed GitPython-3.1.24 aiohttp-3.7.4.post0 async-timeout-3.0.1 datasets-1.12.1 dill-0.3.4 docker-pycreds-0.4.0 future-0.18.2 gitdb-4.0.7 huggingface-hub-0.0.17 keytotext-1.5.0 multidict-5.1.0 multiprocess-0.70.12.2 promise-2.3 pyDeprecate-0.3.0 pyarrow-5.0.0 pytorch-lightning-1.3.4 sacremoses-0.0.45 sentry-sdk-1.3.1 shortuuid-1.0.1 smmap-4.0.0 subprocess32-3.5.4 tokenizers-0.10.3 torchmetrics-0.5.1 tqdm-4.62.2 transformers-4.10.2 wandb-0.12.2 xxhash-2.0.2 yarl-1.6.3 yaspin-2.1.0\n"
     ]
    }
   ],
   "source": [
    "!pip install keytotext"
   ]
  }
 ],
 "metadata": {
  "kernelspec": {
   "display_name": "Python 3",
   "language": "python",
   "name": "python3"
  },
  "language_info": {
   "codemirror_mode": {
    "name": "ipython",
    "version": 3
   },
   "file_extension": ".py",
   "mimetype": "text/x-python",
   "name": "python",
   "nbconvert_exporter": "python",
   "pygments_lexer": "ipython3",
   "version": "3.8.10"
  }
 },
 "nbformat": 4,
 "nbformat_minor": 5
}
