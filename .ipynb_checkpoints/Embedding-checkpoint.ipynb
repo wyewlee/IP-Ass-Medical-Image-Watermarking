{
 "cells": [
  {
   "cell_type": "code",
   "execution_count": null,
   "id": "d3dbeb5d",
   "metadata": {},
   "outputs": [],
   "source": [
    "# #Install this for first time run\n",
    "# !pip install invisible-watermark\n"
   ]
  },
  {
   "cell_type": "markdown",
   "id": "dca05d15",
   "metadata": {},
   "source": [
    "## Encode dwtDCT"
   ]
  },
  {
   "cell_type": "code",
   "execution_count": 48,
   "id": "3f9483d4",
   "metadata": {},
   "outputs": [
    {
     "name": "stdout",
     "output_type": "stream",
     "text": [
      "Done Encoding z 1\n",
      "Done Encoding cz 2\n",
      "Done Encoding zhen 4\n",
      "Done Encoding chenzhen 8\n",
      "Done Encoding chenzhenzhenchen 16\n",
      "Done Encoding chenzhenzhenchenjiachengchengjia 32\n"
     ]
    }
   ],
   "source": [
    "import cv2\n",
    "from imwatermark import WatermarkEncoder\n",
    "import os\n",
    "\n",
    "infolder='input'\n",
    "outfolder='output_b_dwtdct'\n",
    "image_name='MRI_1.png'\n",
    "img_path = os.path.join(infolder,'MRI_1.png')\n",
    "out_img_path = 'out_dwtDCT_'+image_name\n",
    "in_char = ['z','cz','zhen','chenzhen','chenzhenzhenchen','chenzhenzhenchenjiachengchengjia']\n",
    "n = 1\n",
    "\n",
    "in_img = cv2.imread(img_path)\n",
    "\n",
    "for x in in_char:\n",
    "    output_path = str(n)+'_'+out_img_path\n",
    "    final_path = os.path.join(outfolder,output_path)\n",
    "    encoder = WatermarkEncoder()\n",
    "    encoder.set_watermark('bytes', x.encode('utf-8'))\n",
    "    bgr_encoded = encoder.encode(in_img, 'dwtDct')\n",
    "    cv2.imwrite(final_path, bgr_encoded)\n",
    "    \n",
    "    print(\"Done Encoding \"+x + \" \"+ str(n))\n",
    "    n = n*2"
   ]
  },
  {
   "cell_type": "markdown",
   "id": "78360032",
   "metadata": {},
   "source": [
    "## Decode dwtDCT"
   ]
  },
  {
   "cell_type": "code",
   "execution_count": null,
   "id": "11bb6fdc",
   "metadata": {},
   "outputs": [],
   "source": [
    "print(output_path)"
   ]
  },
  {
   "cell_type": "code",
   "execution_count": 49,
   "id": "eb5fca37",
   "metadata": {},
   "outputs": [
    {
     "ename": "AttributeError",
     "evalue": "'NoneType' object has no attribute 'shape'",
     "output_type": "error",
     "traceback": [
      "\u001b[1;31m---------------------------------------------------------------------------\u001b[0m",
      "\u001b[1;31mAttributeError\u001b[0m                            Traceback (most recent call last)",
      "\u001b[1;32m<ipython-input-49-1e3274ac3fd9>\u001b[0m in \u001b[0;36m<module>\u001b[1;34m\u001b[0m\n\u001b[0;32m     14\u001b[0m \u001b[1;33m\u001b[0m\u001b[0m\n\u001b[0;32m     15\u001b[0m     \u001b[0mdecoder\u001b[0m \u001b[1;33m=\u001b[0m \u001b[0mWatermarkDecoder\u001b[0m\u001b[1;33m(\u001b[0m\u001b[1;34m'bytes'\u001b[0m\u001b[1;33m,\u001b[0m \u001b[0mbyte_size\u001b[0m\u001b[1;33m[\u001b[0m\u001b[0mn\u001b[0m\u001b[1;33m]\u001b[0m\u001b[1;33m)\u001b[0m\u001b[1;33m\u001b[0m\u001b[1;33m\u001b[0m\u001b[0m\n\u001b[1;32m---> 16\u001b[1;33m     \u001b[0mwatermark\u001b[0m \u001b[1;33m=\u001b[0m \u001b[0mdecoder\u001b[0m\u001b[1;33m.\u001b[0m\u001b[0mdecode\u001b[0m\u001b[1;33m(\u001b[0m\u001b[0mbgr\u001b[0m\u001b[1;33m,\u001b[0m \u001b[1;34m'dwtDct'\u001b[0m\u001b[1;33m)\u001b[0m\u001b[1;33m\u001b[0m\u001b[1;33m\u001b[0m\u001b[0m\n\u001b[0m\u001b[0;32m     17\u001b[0m     \u001b[0mprint\u001b[0m\u001b[1;33m(\u001b[0m\u001b[0mwatermark\u001b[0m\u001b[1;33m.\u001b[0m\u001b[0mdecode\u001b[0m\u001b[1;33m(\u001b[0m\u001b[1;34m'utf-8'\u001b[0m\u001b[1;33m)\u001b[0m\u001b[1;33m)\u001b[0m\u001b[1;33m\u001b[0m\u001b[1;33m\u001b[0m\u001b[0m\n\u001b[0;32m     18\u001b[0m \u001b[1;33m\u001b[0m\u001b[0m\n",
      "\u001b[1;32m~\\anaconda3\\lib\\site-packages\\imwatermark\\watermark.py\u001b[0m in \u001b[0;36mdecode\u001b[1;34m(self, cv2Image, method, **configs)\u001b[0m\n\u001b[0;32m    149\u001b[0m \u001b[1;33m\u001b[0m\u001b[0m\n\u001b[0;32m    150\u001b[0m     \u001b[1;32mdef\u001b[0m \u001b[0mdecode\u001b[0m\u001b[1;33m(\u001b[0m\u001b[0mself\u001b[0m\u001b[1;33m,\u001b[0m \u001b[0mcv2Image\u001b[0m\u001b[1;33m,\u001b[0m \u001b[0mmethod\u001b[0m\u001b[1;33m=\u001b[0m\u001b[1;34m'dwtDct'\u001b[0m\u001b[1;33m,\u001b[0m \u001b[1;33m**\u001b[0m\u001b[0mconfigs\u001b[0m\u001b[1;33m)\u001b[0m\u001b[1;33m:\u001b[0m\u001b[1;33m\u001b[0m\u001b[1;33m\u001b[0m\u001b[0m\n\u001b[1;32m--> 151\u001b[1;33m         \u001b[1;33m(\u001b[0m\u001b[0mr\u001b[0m\u001b[1;33m,\u001b[0m \u001b[0mc\u001b[0m\u001b[1;33m,\u001b[0m \u001b[0mchannels\u001b[0m\u001b[1;33m)\u001b[0m \u001b[1;33m=\u001b[0m \u001b[0mcv2Image\u001b[0m\u001b[1;33m.\u001b[0m\u001b[0mshape\u001b[0m\u001b[1;33m\u001b[0m\u001b[1;33m\u001b[0m\u001b[0m\n\u001b[0m\u001b[0;32m    152\u001b[0m         \u001b[1;32mif\u001b[0m \u001b[0mr\u001b[0m\u001b[1;33m*\u001b[0m\u001b[0mc\u001b[0m \u001b[1;33m<\u001b[0m \u001b[1;36m256\u001b[0m\u001b[1;33m*\u001b[0m\u001b[1;36m256\u001b[0m\u001b[1;33m:\u001b[0m\u001b[1;33m\u001b[0m\u001b[1;33m\u001b[0m\u001b[0m\n\u001b[0;32m    153\u001b[0m             \u001b[1;32mraise\u001b[0m \u001b[0mRuntimeError\u001b[0m\u001b[1;33m(\u001b[0m\u001b[1;34m'image too small, should be larger than 256x256'\u001b[0m\u001b[1;33m)\u001b[0m\u001b[1;33m\u001b[0m\u001b[1;33m\u001b[0m\u001b[0m\n",
      "\u001b[1;31mAttributeError\u001b[0m: 'NoneType' object has no attribute 'shape'"
     ]
    }
   ],
   "source": [
    "import cv2\n",
    "from imwatermark import WatermarkDecoder\n",
    "\n",
    "\n",
    "byte_size=[8,16,32,64,128,256]\n",
    "n=0\n",
    "\n",
    "read_path = ['1_out_dwtDCT_MRI_1.png','2_out_dwtDCT_MRI_1.png',\n",
    "             '4_out_dwtDCT_MRI_1.png','8_out_dwtDCT_MRI_1.png',\n",
    "             '16_out_dwtDCT_MRI_1.png','32_out_dwtDCT_MRI_1.png']\n",
    "\n",
    "for x in read_path:\n",
    "    bgr = cv2.imread(x)\n",
    "\n",
    "    decoder = WatermarkDecoder('bytes', byte_size[n])\n",
    "    watermark = decoder.decode(bgr, 'dwtDct')\n",
    "    print(watermark.decode('utf-8'))\n",
    "\n",
    "    n=n+1"
   ]
  },
  {
   "cell_type": "markdown",
   "id": "542e92da",
   "metadata": {},
   "source": [
    "# Encode RivaGAN"
   ]
  },
  {
   "cell_type": "code",
   "execution_count": 50,
   "id": "5f91d095",
   "metadata": {},
   "outputs": [
    {
     "name": "stdout",
     "output_type": "stream",
     "text": [
      "Done Encoding \n"
     ]
    }
   ],
   "source": [
    "import cv2\n",
    "from imwatermark import WatermarkEncoder\n",
    "import os\n",
    "\n",
    "infolder='input'\n",
    "outfolder='output_d_rivagan'\n",
    "image_name='MRI_1.png'\n",
    "img_path = os.path.join(infolder,image_name)\n",
    "out_img_path = 'out_RivaGAN_'+image_name\n",
    "in_char = 'zhen'\n",
    "\n",
    "in_img = cv2.imread(img_path)\n",
    "\n",
    "output_path = out_img_path\n",
    "final_path = os.path.join(outfolder,output_path)\n",
    "encoder = WatermarkEncoder()\n",
    "encoder.set_watermark('bytes', in_char.encode('utf-8'))\n",
    "encoder.loadModel()\n",
    "bgr_encoded = encoder.encode(in_img, 'rivaGan')\n",
    "cv2.imwrite(final_path, bgr_encoded)\n",
    "\n",
    "print(\"Done Encoding \")\n"
   ]
  },
  {
   "cell_type": "code",
   "execution_count": 7,
   "id": "3ad64d29",
   "metadata": {},
   "outputs": [
    {
     "name": "stdout",
     "output_type": "stream",
     "text": [
      "zhen\n"
     ]
    }
   ],
   "source": [
    "import cv2\n",
    "from imwatermark import WatermarkDecoder\n",
    "\n",
    "byte_size=32\n",
    "n=0\n",
    "\n",
    "read_path = 'out_rivaGAN_MRI_1.png'\n",
    "\n",
    "bgr = cv2.imread(read_path)\n",
    "decoder = WatermarkDecoder('bytes', byte_size)\n",
    "decoder.loadModel()\n",
    "watermark = decoder.decode(bgr, 'rivaGan')\n",
    "print(watermark.decode('utf-8'))\n"
   ]
  },
  {
   "cell_type": "markdown",
   "id": "8bc33005",
   "metadata": {},
   "source": [
    "# DwtDctSvd"
   ]
  },
  {
   "cell_type": "code",
   "execution_count": 52,
   "id": "bdfe36b9",
   "metadata": {},
   "outputs": [
    {
     "name": "stdout",
     "output_type": "stream",
     "text": [
      "Done Encoding z 1\n",
      "Done Encoding cz 2\n",
      "Done Encoding zhen 4\n",
      "Done Encoding chenzhen 8\n",
      "Done Encoding chenzhenzhenchen 16\n",
      "Done Encoding chenzhenzhenchenjiachengchengjia 32\n"
     ]
    }
   ],
   "source": [
    "import cv2\n",
    "from imwatermark import WatermarkEncoder\n",
    "\n",
    "infolder='input'\n",
    "outfolder='output_c_dwtdctsvd'\n",
    "image_name='MRI_1.png'\n",
    "out_img_path = 'out_dwtDCTSVD_'+image_name\n",
    "in_char = ['z','cz','zhen','chenzhen','chenzhenzhenchen','chenzhenzhenchenjiachengchengjia']\n",
    "n = 1\n",
    "\n",
    "in_img = cv2.imread(img_path)\n",
    "\n",
    "for x in in_char:\n",
    "    output_path = str(n)+'_'+out_img_path\n",
    "    final_path = os.path.join(outfolder,output_path)\n",
    "    encoder = WatermarkEncoder()\n",
    "    encoder.set_watermark('bytes', x.encode('utf-8'))\n",
    "    bgr_encoded = encoder.encode(in_img, 'dwtDctSvd')\n",
    "    cv2.imwrite(final_path, bgr_encoded)\n",
    "    \n",
    "    print(\"Done Encoding \"+x + \" \"+ str(n))\n",
    "    n = n*2"
   ]
  },
  {
   "cell_type": "code",
   "execution_count": 14,
   "id": "124524f6",
   "metadata": {},
   "outputs": [
    {
     "name": "stdout",
     "output_type": "stream",
     "text": [
      "z\n",
      "cz\n",
      "zhen\n",
      "chenzhen\n",
      "chenzhenzhenchen\n",
      "chenzhenzhenchenjiachengchengjia\n"
     ]
    }
   ],
   "source": [
    "import cv2\n",
    "from imwatermark import WatermarkDecoder\n",
    "\n",
    "byte_size=[8,16,32,64,128,256]\n",
    "n=0\n",
    "\n",
    "read_path = ['1_out_dwtDCTSVD_MRI_1.png','2_out_dwtDCTSVD_MRI_1.png',\n",
    "             '4_out_dwtDCTSVD_MRI_1.png','8_out_dwtDCTSVD_MRI_1.png',\n",
    "             '16_out_dwtDCTSVD_MRI_1.png','32_out_dwtDCTSVD_MRI_1.png']\n",
    "\n",
    "for x in read_path:\n",
    "    bgr = cv2.imread(x)\n",
    "    decoder = WatermarkDecoder('bytes', byte_size[n])\n",
    "    watermark = decoder.decode(bgr, 'dwtDctSvd')\n",
    "    print(watermark.decode('utf-8'))\n",
    "\n",
    "    n=n+1"
   ]
  },
  {
   "cell_type": "code",
   "execution_count": 8,
   "id": "fb60fbdc",
   "metadata": {},
   "outputs": [],
   "source": [
    "encoder??"
   ]
  },
  {
   "cell_type": "markdown",
   "id": "d3b13fee",
   "metadata": {},
   "source": [
    "# >>>Encode DWT"
   ]
  },
  {
   "cell_type": "code",
   "execution_count": null,
   "id": "4362beae",
   "metadata": {},
   "outputs": [
    {
     "name": "stdout",
     "output_type": "stream",
     "text": [
      "Put down the length of wm_bit 7\n",
      "Done Embedding: z\n",
      "Put down the length of wm_bit 15\n",
      "Done Embedding: cz\n",
      "Put down the length of wm_bit 31\n",
      "Done Embedding: zhen\n",
      "Put down the length of wm_bit 63\n",
      "Done Embedding: chenzhen\n"
     ]
    }
   ],
   "source": [
    "from blind_watermark import WaterMark\n",
    "\n",
    "infolder='input'\n",
    "outfolder='output_a_dwt'\n",
    "image_name='MRI_1.png'\n",
    "out_img_path = 'out_Dwt_'+image_name\n",
    "in_char = ['z','cz','zhen','chenzhen','chenzhenzhenchen','chenzhenzhenchenjiachengchengjia']\n",
    "n = 1\n",
    "\n",
    "\n",
    "for x in in_char:\n",
    "    bwm1 = WaterMark(password_img=1, password_wm=1)\n",
    "    bwm1.read_img(img_path)\n",
    "    bwm1.read_wm(x, mode='str')\n",
    "    \n",
    "    output_path= str(n)+'_'+out_img_path\n",
    "    final_path = os.path.join(outfolder,output_path)\n",
    "    bwm1.embed(final_path) \n",
    "    \n",
    "    len_wm = len(bwm1.wm_bit)\n",
    "    print('Put down the length of wm_bit {len_wm}'.format(len_wm=len_wm))\n",
    "    \n",
    "    print(\"Done Embedding: \"+x)\n",
    "    n=n*2\n",
    "\n"
   ]
  },
  {
   "cell_type": "code",
   "execution_count": 37,
   "id": "cf0e7c46",
   "metadata": {},
   "outputs": [
    {
     "name": "stdout",
     "output_type": "stream",
     "text": [
      "z\n",
      "cz\n",
      "zhen\n",
      "chenzhen\n",
      "chenzhenzhenchen\n",
      "chenzhenzhenchenjiachengchengjia\n"
     ]
    }
   ],
   "source": [
    "read_path = ['1_out_Dwt_MRI_1.png','2_out_Dwt_MRI_1.png',\n",
    "             '4_out_Dwt_MRI_1.png','8_out_Dwt_MRI_1.png',\n",
    "             '16_out_Dwt_MRI_1.png','32_out_Dwt_MRI_1.png']\n",
    "n=0\n",
    "bit_size=[7,15,31,63,127,255]\n",
    "\n",
    "for x in read_path:\n",
    "    decoder = WaterMark(password_img=1, password_wm=1)\n",
    "    wm_extract = decoder.extract(x, wm_shape=bit_size[n], mode='str')\n",
    "    print(wm_extract)\n",
    "    n=n+1\n"
   ]
  }
 ],
 "metadata": {
  "kernelspec": {
   "display_name": "Python 3",
   "language": "python",
   "name": "python3"
  },
  "language_info": {
   "codemirror_mode": {
    "name": "ipython",
    "version": 3
   },
   "file_extension": ".py",
   "mimetype": "text/x-python",
   "name": "python",
   "nbconvert_exporter": "python",
   "pygments_lexer": "ipython3",
   "version": "3.8.10"
  }
 },
 "nbformat": 4,
 "nbformat_minor": 5
}
