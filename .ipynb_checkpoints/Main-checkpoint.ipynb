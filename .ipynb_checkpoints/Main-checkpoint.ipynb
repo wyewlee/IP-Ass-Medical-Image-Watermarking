{
 "cells": [
  {
   "cell_type": "code",
   "execution_count": 11,
   "id": "71769f8b",
   "metadata": {},
   "outputs": [],
   "source": [
    "import cv2\n",
    "from imwatermark import WatermarkEncoder\n",
    "import os\n",
    "from blind_watermark import WaterMark"
   ]
  },
  {
   "cell_type": "code",
   "execution_count": null,
   "id": "50c5d04e",
   "metadata": {},
   "outputs": [],
   "source": []
  },
  {
   "cell_type": "markdown",
   "id": "bda62d3f",
   "metadata": {},
   "source": [
    "# Part A: Encode"
   ]
  },
  {
   "cell_type": "code",
   "execution_count": 12,
   "id": "9aac9cae",
   "metadata": {},
   "outputs": [
    {
     "name": "stdout",
     "output_type": "stream",
     "text": [
      "Done Encoding: out_img\\algo_a\\Algo_A_MRI_A.png\n",
      "Done Encoding: out_img\\algo_a\\Algo_A_MRI_B.png\n",
      "Done Encoding: out_img\\algo_a\\Algo_A_MRI_C.png\n",
      "Done Encoding: out_img\\algo_a\\Algo_A_MRI_D.png\n",
      "Done Encoding: out_img\\algo_a\\Algo_A_MRI_E.png\n",
      "Done Encoding: out_img\\algo_a\\Algo_A_MRI_F.png\n",
      "Done Encoding: out_img\\algo_a\\Algo_A_MRI_G.png\n",
      "Done Encoding: out_img\\algo_a\\Algo_A_MRI_H.png\n",
      "Done Encoding: out_img\\algo_a\\Algo_A_MRI_I.png\n",
      "Done Encoding: out_img\\algo_a\\Algo_A_MRI_J.png\n",
      "Done Encoding: out_img\\algo_a\\Algo_A_MRI_K.png\n",
      "Done Encoding: out_img\\algo_a\\Algo_A_MRI_L.png\n",
      "Done Encoding: out_img\\algo_a\\Algo_A_MRI_M.png\n",
      "Done Encoding: out_img\\algo_a\\Algo_A_MRI_N.png\n",
      "Done Encoding: out_img\\algo_a\\Algo_A_MRI_O.png\n",
      "Done Encoding: out_img\\algo_a\\Algo_A_MRI_P.png\n",
      "Done Encoding: out_img\\algo_a\\Algo_A_MRI_Q.png\n",
      "Done Encoding: out_img\\algo_a\\Algo_A_MRI_R.png\n",
      "Done Encoding: out_img\\algo_a\\Algo_A_MRI_S.png\n",
      "Done Encoding: out_img\\algo_a\\Algo_A_MRI_T.png\n"
     ]
    }
   ],
   "source": [
    "#Encode DWT A\n",
    "\n",
    "infolder='in_img'\n",
    "outfolder=os.path.join('out_img','algo_a')\n",
    "in_img_list = os.listdir(infolder)\n",
    "text='zhen'\n",
    "\n",
    "for img in in_img_list:\n",
    "    in_path = os.path.join(infolder,img)\n",
    "    out_name='Algo_A_'+img\n",
    "    out_path = os.path.join(outfolder,out_name)\n",
    "    \n",
    "   \n",
    "    encoder = WaterMark(password_img=1, password_wm=1)\n",
    "    encoder.read_img(in_path)\n",
    "    encoder.read_wm(text, mode='str')\n",
    "    encoder.embed(out_path)\n",
    "     \n",
    "    print(\"Done Encoding: \" + out_path)"
   ]
  },
  {
   "cell_type": "code",
   "execution_count": 13,
   "id": "1626a60b",
   "metadata": {},
   "outputs": [
    {
     "name": "stdout",
     "output_type": "stream",
     "text": [
      "Done Encoding: out_img\\algo_b\\Algo_B_MRI_A.png\n",
      "Done Encoding: out_img\\algo_b\\Algo_B_MRI_B.png\n",
      "Done Encoding: out_img\\algo_b\\Algo_B_MRI_C.png\n",
      "Done Encoding: out_img\\algo_b\\Algo_B_MRI_D.png\n",
      "Done Encoding: out_img\\algo_b\\Algo_B_MRI_E.png\n",
      "Done Encoding: out_img\\algo_b\\Algo_B_MRI_F.png\n",
      "Done Encoding: out_img\\algo_b\\Algo_B_MRI_G.png\n",
      "Done Encoding: out_img\\algo_b\\Algo_B_MRI_H.png\n",
      "Done Encoding: out_img\\algo_b\\Algo_B_MRI_I.png\n",
      "Done Encoding: out_img\\algo_b\\Algo_B_MRI_J.png\n",
      "Done Encoding: out_img\\algo_b\\Algo_B_MRI_K.png\n",
      "Done Encoding: out_img\\algo_b\\Algo_B_MRI_L.png\n",
      "Done Encoding: out_img\\algo_b\\Algo_B_MRI_M.png\n",
      "Done Encoding: out_img\\algo_b\\Algo_B_MRI_N.png\n",
      "Done Encoding: out_img\\algo_b\\Algo_B_MRI_O.png\n",
      "Done Encoding: out_img\\algo_b\\Algo_B_MRI_P.png\n",
      "Done Encoding: out_img\\algo_b\\Algo_B_MRI_Q.png\n",
      "Done Encoding: out_img\\algo_b\\Algo_B_MRI_R.png\n",
      "Done Encoding: out_img\\algo_b\\Algo_B_MRI_S.png\n",
      "Done Encoding: out_img\\algo_b\\Algo_B_MRI_T.png\n"
     ]
    }
   ],
   "source": [
    "#Encode dwtDct B\n",
    "\n",
    "infolder='in_img'\n",
    "outfolder=os.path.join('out_img','algo_b')\n",
    "in_img_list = os.listdir(infolder)\n",
    "text='zhen'\n",
    "\n",
    "encoder = WatermarkEncoder()\n",
    "\n",
    "\n",
    "for img in in_img_list:\n",
    "    in_path = os.path.join(infolder,img)\n",
    "    out_name='Algo_B_'+img\n",
    "    out_path = os.path.join(outfolder,out_name)\n",
    "    \n",
    "    in_img = cv2.imread(in_path)\n",
    "    \n",
    "    encoder.set_watermark('bytes', text.encode('utf-8'))\n",
    "    \n",
    "    img_encoded = encoder.encode(in_img,'dwtDct')\n",
    "    \n",
    "    cv2.imwrite(out_path,img_encoded)\n",
    "    \n",
    "    print(\"Done Encoding: \" + out_path)\n",
    "    \n"
   ]
  },
  {
   "cell_type": "code",
   "execution_count": 15,
   "id": "85ebb3fe",
   "metadata": {},
   "outputs": [
    {
     "name": "stdout",
     "output_type": "stream",
     "text": [
      "Done Encoding: out_img\\algo_c\\Algo_C_MRI_A.png\n",
      "Done Encoding: out_img\\algo_c\\Algo_C_MRI_B.png\n",
      "Done Encoding: out_img\\algo_c\\Algo_C_MRI_C.png\n",
      "Done Encoding: out_img\\algo_c\\Algo_C_MRI_D.png\n",
      "Done Encoding: out_img\\algo_c\\Algo_C_MRI_E.png\n",
      "Done Encoding: out_img\\algo_c\\Algo_C_MRI_F.png\n",
      "Done Encoding: out_img\\algo_c\\Algo_C_MRI_G.png\n",
      "Done Encoding: out_img\\algo_c\\Algo_C_MRI_H.png\n",
      "Done Encoding: out_img\\algo_c\\Algo_C_MRI_I.png\n",
      "Done Encoding: out_img\\algo_c\\Algo_C_MRI_J.png\n",
      "Done Encoding: out_img\\algo_c\\Algo_C_MRI_K.png\n",
      "Done Encoding: out_img\\algo_c\\Algo_C_MRI_L.png\n",
      "Done Encoding: out_img\\algo_c\\Algo_C_MRI_M.png\n",
      "Done Encoding: out_img\\algo_c\\Algo_C_MRI_N.png\n",
      "Done Encoding: out_img\\algo_c\\Algo_C_MRI_O.png\n",
      "Done Encoding: out_img\\algo_c\\Algo_C_MRI_P.png\n",
      "Done Encoding: out_img\\algo_c\\Algo_C_MRI_Q.png\n",
      "Done Encoding: out_img\\algo_c\\Algo_C_MRI_R.png\n",
      "Done Encoding: out_img\\algo_c\\Algo_C_MRI_S.png\n",
      "Done Encoding: out_img\\algo_c\\Algo_C_MRI_T.png\n"
     ]
    }
   ],
   "source": [
    "#encode DwtDctSvd C\n",
    "\n",
    "infolder='in_img'\n",
    "outfolder=os.path.join('out_img','algo_c')\n",
    "in_img_list = os.listdir(infolder)\n",
    "text='zhen'\n",
    "\n",
    "encoder = WatermarkEncoder()\n",
    "\n",
    "for img in in_img_list:\n",
    "    in_path = os.path.join(infolder,img)\n",
    "    out_name='Algo_C_'+img\n",
    "    out_path = os.path.join(outfolder,out_name)\n",
    "    \n",
    "    in_img = cv2.imread(in_path)\n",
    "    \n",
    "    encoder.set_watermark('bytes', text.encode('utf-8'))\n",
    "    \n",
    "    img_encoded = encoder.encode(in_img,'dwtDctSvd')\n",
    "    \n",
    "    cv2.imwrite(out_path,img_encoded)\n",
    "    \n",
    "    print(\"Done Encoding: \" + out_path)\n",
    "    \n"
   ]
  },
  {
   "cell_type": "code",
   "execution_count": 16,
   "id": "03064904",
   "metadata": {},
   "outputs": [
    {
     "name": "stdout",
     "output_type": "stream",
     "text": [
      "Done Encoding: out_img\\algo_d\\Algo_D_MRI_A.png\n",
      "Done Encoding: out_img\\algo_d\\Algo_D_MRI_B.png\n",
      "Done Encoding: out_img\\algo_d\\Algo_D_MRI_C.png\n",
      "Done Encoding: out_img\\algo_d\\Algo_D_MRI_D.png\n",
      "Done Encoding: out_img\\algo_d\\Algo_D_MRI_E.png\n",
      "Done Encoding: out_img\\algo_d\\Algo_D_MRI_F.png\n",
      "Done Encoding: out_img\\algo_d\\Algo_D_MRI_G.png\n",
      "Done Encoding: out_img\\algo_d\\Algo_D_MRI_H.png\n",
      "Done Encoding: out_img\\algo_d\\Algo_D_MRI_I.png\n",
      "Done Encoding: out_img\\algo_d\\Algo_D_MRI_J.png\n",
      "Done Encoding: out_img\\algo_d\\Algo_D_MRI_K.png\n",
      "Done Encoding: out_img\\algo_d\\Algo_D_MRI_L.png\n",
      "Done Encoding: out_img\\algo_d\\Algo_D_MRI_M.png\n",
      "Done Encoding: out_img\\algo_d\\Algo_D_MRI_N.png\n",
      "Done Encoding: out_img\\algo_d\\Algo_D_MRI_O.png\n",
      "Done Encoding: out_img\\algo_d\\Algo_D_MRI_P.png\n",
      "Done Encoding: out_img\\algo_d\\Algo_D_MRI_Q.png\n",
      "Done Encoding: out_img\\algo_d\\Algo_D_MRI_R.png\n",
      "Done Encoding: out_img\\algo_d\\Algo_D_MRI_S.png\n",
      "Done Encoding: out_img\\algo_d\\Algo_D_MRI_T.png\n"
     ]
    }
   ],
   "source": [
    "#encode RivaGAN D\n",
    "\n",
    "#encode DwtDctSvd C\n",
    "\n",
    "infolder='in_img'\n",
    "outfolder=os.path.join('out_img','algo_d')\n",
    "in_img_list = os.listdir(infolder)\n",
    "text='zhen'\n",
    "\n",
    "encoder = WatermarkEncoder()\n",
    "\n",
    "for img in in_img_list:\n",
    "    in_path = os.path.join(infolder,img)\n",
    "    out_name='Algo_D_'+img\n",
    "    out_path = os.path.join(outfolder,out_name)\n",
    "    \n",
    "    in_img = cv2.imread(in_path)\n",
    "    \n",
    "    encoder.set_watermark('bytes', text.encode('utf-8'))\n",
    "    encoder.loadModel()\n",
    "    img_encoded = encoder.encode(in_img,'rivaGan')\n",
    "    \n",
    "    cv2.imwrite(out_path,img_encoded)\n",
    "    \n",
    "    print(\"Done Encoding: \" + out_path)\n",
    "    \n"
   ]
  },
  {
   "cell_type": "markdown",
   "id": "a847eb30",
   "metadata": {},
   "source": [
    "# Part B: Attacking"
   ]
  },
  {
   "cell_type": "markdown",
   "id": "c65d882a",
   "metadata": {},
   "source": [
    "# Part C: Decode"
   ]
  },
  {
   "cell_type": "markdown",
   "id": "62a4f8ea",
   "metadata": {},
   "source": []
  },
  {
   "cell_type": "markdown",
   "id": "46aa5adb",
   "metadata": {},
   "source": []
  },
  {
   "cell_type": "markdown",
   "id": "5142d6bc",
   "metadata": {},
   "source": []
  },
  {
   "cell_type": "markdown",
   "id": "07a6e557",
   "metadata": {},
   "source": []
  },
  {
   "cell_type": "markdown",
   "id": "95917973",
   "metadata": {},
   "source": []
  }
 ],
 "metadata": {
  "kernelspec": {
   "display_name": "Python 3",
   "language": "python",
   "name": "python3"
  },
  "language_info": {
   "codemirror_mode": {
    "name": "ipython",
    "version": 3
   },
   "file_extension": ".py",
   "mimetype": "text/x-python",
   "name": "python",
   "nbconvert_exporter": "python",
   "pygments_lexer": "ipython3",
   "version": "3.8.10"
  }
 },
 "nbformat": 4,
 "nbformat_minor": 5
}
