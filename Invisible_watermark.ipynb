{
  "nbformat": 4,
  "nbformat_minor": 0,
  "metadata": {
    "kernelspec": {
      "display_name": "Python 3",
      "language": "python",
      "name": "python3"
    },
    "language_info": {
      "codemirror_mode": {
        "name": "ipython",
        "version": 3
      },
      "file_extension": ".py",
      "mimetype": "text/x-python",
      "name": "python",
      "nbconvert_exporter": "python",
      "pygments_lexer": "ipython3",
      "version": "3.8.5"
    },
    "colab": {
      "name": "Invisible-watermark.ipynb",
      "provenance": []
    }
  },
  "cells": [
    {
      "cell_type": "markdown",
      "metadata": {
        "id": "Lgz_tMYsBeI0"
      },
      "source": [
        "https://pythonrepo.com/repo/ShieldMnt-invisible-watermark"
      ]
    },
    {
      "cell_type": "markdown",
      "metadata": {
        "id": "mdBL2enBBeI6"
      },
      "source": [
        "frequency methods\n",
        "\n",
        "dwtDct: DWT + DCT transform, embed watermark bit into max non-trivial coefficient of block dct coefficents\n",
        "\n",
        "dwtDctSvd: DWT + DCT transform, SVD decomposition of each block, embed watermark bit into singular value decomposition\n",
        "\n",
        "rivaGan: encoder/decoder model with Attention mechanism + embed watermark bits into vector."
      ]
    },
    {
      "cell_type": "markdown",
      "metadata": {
        "id": "20e5PgenBeI-"
      },
      "source": [
        "# Freq method\n",
        "- dwtDct"
      ]
    },
    {
      "cell_type": "code",
      "metadata": {
        "colab": {
          "base_uri": "https://localhost:8080/"
        },
        "id": "mB-4HuZ5BeJA",
        "outputId": "b046fa7a-83b1-47ba-c6dc-c47d47eeb966"
      },
      "source": [
        "#Install this for first time run\n",
        "!pip install invisible-watermark\n",
        "!pip install blind-watermark"
      ],
      "execution_count": 1,
      "outputs": [
        {
          "output_type": "stream",
          "name": "stdout",
          "text": [
            "Requirement already satisfied: invisible-watermark in /usr/local/lib/python3.7/dist-packages (0.1.5)\n",
            "Requirement already satisfied: onnx in /usr/local/lib/python3.7/dist-packages (from invisible-watermark) (1.10.1)\n",
            "Requirement already satisfied: opencv-python>=4.1.0.25 in /usr/local/lib/python3.7/dist-packages (from invisible-watermark) (4.1.2.30)\n",
            "Requirement already satisfied: PyWavelets>=1.1.1 in /usr/local/lib/python3.7/dist-packages (from invisible-watermark) (1.1.1)\n",
            "Requirement already satisfied: Pillow>=6.0.0 in /usr/local/lib/python3.7/dist-packages (from invisible-watermark) (7.1.2)\n",
            "Requirement already satisfied: numpy>=1.17.0 in /usr/local/lib/python3.7/dist-packages (from invisible-watermark) (1.19.5)\n",
            "Requirement already satisfied: torch in /usr/local/lib/python3.7/dist-packages (from invisible-watermark) (1.9.0+cu102)\n",
            "Requirement already satisfied: onnxruntime in /usr/local/lib/python3.7/dist-packages (from invisible-watermark) (1.8.1)\n",
            "Requirement already satisfied: six in /usr/local/lib/python3.7/dist-packages (from onnx->invisible-watermark) (1.15.0)\n",
            "Requirement already satisfied: typing-extensions>=3.6.2.1 in /usr/local/lib/python3.7/dist-packages (from onnx->invisible-watermark) (3.7.4.3)\n",
            "Requirement already satisfied: protobuf in /usr/local/lib/python3.7/dist-packages (from onnx->invisible-watermark) (3.17.3)\n",
            "Requirement already satisfied: flatbuffers in /usr/local/lib/python3.7/dist-packages (from onnxruntime->invisible-watermark) (1.12)\n",
            "Requirement already satisfied: blind-watermark in /usr/local/lib/python3.7/dist-packages (0.1.1)\n",
            "Requirement already satisfied: numpy in /usr/local/lib/python3.7/dist-packages (from blind-watermark) (1.19.5)\n",
            "Requirement already satisfied: opencv-python in /usr/local/lib/python3.7/dist-packages (from blind-watermark) (4.1.2.30)\n"
          ]
        }
      ]
    },
    {
      "cell_type": "code",
      "metadata": {
        "id": "WMF3Y191BJhY"
      },
      "source": [
        "import cv2\n",
        "import numpy as np\n",
        "import random\n",
        "from skimage.util import random_noise\n",
        "from blind_watermark import WaterMark\n",
        "from imwatermark import WatermarkEncoder\n",
        "from imwatermark import WatermarkDecoder"
      ],
      "execution_count": 2,
      "outputs": []
    },
    {
      "cell_type": "markdown",
      "metadata": {
        "id": "aGVsf6n8BpXX"
      },
      "source": [
        "# blind_watermark"
      ]
    },
    {
      "cell_type": "code",
      "metadata": {
        "colab": {
          "base_uri": "https://localhost:8080/"
        },
        "id": "LVw0UtUIBeJD",
        "outputId": "9e29a526-effb-4776-8d9c-2284a16a4c44"
      },
      "source": [
        "bwm1 = WaterMark(password_img=1, password_wm=1)\n",
        "bwm1.read_img('1.png')\n",
        "wm = 'test'\n",
        "bwm1.read_wm(wm, mode='str')\n",
        "bwm1.embed('11_blind.png')\n",
        "len_wm = len(bwm1.wm_bit)\n",
        "print('Put down the length of wm_bit {len_wm}'.format(len_wm=len_wm))"
      ],
      "execution_count": 3,
      "outputs": [
        {
          "output_type": "stream",
          "name": "stdout",
          "text": [
            "Put down the length of wm_bit 31\n"
          ]
        }
      ]
    },
    {
      "cell_type": "code",
      "metadata": {
        "colab": {
          "base_uri": "https://localhost:8080/"
        },
        "id": "u6DhuRlOBeJF",
        "outputId": "8128be61-a8c8-43d5-fd5b-7dce9d1e0b26"
      },
      "source": [
        "bwm1 = WaterMark(password_img=1, password_wm=1)\n",
        "wm_extract = bwm1.extract('11_blind.png', wm_shape=len_wm, mode='str')\n",
        "print(wm_extract)"
      ],
      "execution_count": 4,
      "outputs": [
        {
          "output_type": "stream",
          "name": "stdout",
          "text": [
            "test\n"
          ]
        }
      ]
    },
    {
      "cell_type": "markdown",
      "metadata": {
        "id": "8jIyVu7mBtoW"
      },
      "source": [
        "# Freq method\n",
        "- dwtDct"
      ]
    },
    {
      "cell_type": "code",
      "metadata": {
        "colab": {
          "base_uri": "https://localhost:8080/"
        },
        "id": "9HazpsTiBwbw",
        "outputId": "fcb67c49-7dbf-4774-e5e8-98be6925a74f"
      },
      "source": [
        "bgr = cv2.imread('1.png')\n",
        "wm = 'test'\n",
        "\n",
        "encoder = WatermarkEncoder()\n",
        "encoder.set_watermark('bytes', wm.encode('utf-8'))\n",
        "bgr_encoded = encoder.encode(bgr, 'dwtDct')\n",
        "\n",
        "cv2.imwrite('11_wm.png', bgr_encoded)"
      ],
      "execution_count": 5,
      "outputs": [
        {
          "output_type": "execute_result",
          "data": {
            "text/plain": [
              "True"
            ]
          },
          "metadata": {},
          "execution_count": 5
        }
      ]
    },
    {
      "cell_type": "code",
      "metadata": {
        "colab": {
          "base_uri": "https://localhost:8080/"
        },
        "id": "b1m_JwITBw8v",
        "outputId": "90543bad-c5ec-4142-94eb-4b9646e7534e"
      },
      "source": [
        "bgr = cv2.imread('11_wm.png')\n",
        "\n",
        "decoder = WatermarkDecoder('bytes', 32)\n",
        "watermark = decoder.decode(bgr, 'dwtDct')\n",
        "print(watermark.decode('utf-8'))"
      ],
      "execution_count": null,
      "outputs": [
        {
          "output_type": "stream",
          "name": "stdout",
          "text": [
            "test\n"
          ]
        }
      ]
    },
    {
      "cell_type": "markdown",
      "metadata": {
        "id": "IoWwaNArBeJH"
      },
      "source": [
        "# RivaGan Method"
      ]
    },
    {
      "cell_type": "code",
      "metadata": {
        "colab": {
          "base_uri": "https://localhost:8080/"
        },
        "id": "2LlGRTX5BeJJ",
        "outputId": "be5be150-2793-477b-cb03-13c8b35d7c58"
      },
      "source": [
        "bgr = cv2.imread('1.png')\n",
        "wm = 'test'\n",
        "\n",
        "encoder = WatermarkEncoder()\n",
        "encoder.set_watermark('bytes', wm.encode('utf-8'))\n",
        "encoder.loadModel()\n",
        "bgr_encoded = encoder.encode(bgr, 'rivaGan')\n",
        "\n",
        "cv2.imwrite('11_rg.png', bgr_encoded)"
      ],
      "execution_count": null,
      "outputs": [
        {
          "output_type": "execute_result",
          "data": {
            "text/plain": [
              "True"
            ]
          },
          "metadata": {},
          "execution_count": 7
        }
      ]
    },
    {
      "cell_type": "code",
      "metadata": {
        "colab": {
          "base_uri": "https://localhost:8080/"
        },
        "id": "_mj-FI7fBeJQ",
        "outputId": "19c2e410-8f66-4b67-980a-bbfdce3b2c4d"
      },
      "source": [
        "bgr = cv2.imread('11_rg.png')\n",
        "\n",
        "decoder = WatermarkDecoder('bytes', 32)\n",
        "decoder.loadModel()\n",
        "watermark = decoder.decode(bgr, 'rivaGan')\n",
        "print(watermark.decode('utf-8'))"
      ],
      "execution_count": null,
      "outputs": [
        {
          "output_type": "stream",
          "name": "stdout",
          "text": [
            "test\n"
          ]
        }
      ]
    },
    {
      "cell_type": "markdown",
      "metadata": {
        "id": "CSasBwd6CNuH"
      },
      "source": [
        "# DwtDctSvd"
      ]
    },
    {
      "cell_type": "code",
      "metadata": {
        "id": "yDCKEAx7BeJU",
        "colab": {
          "base_uri": "https://localhost:8080/"
        },
        "outputId": "33bfb40b-48b4-4ebf-cf82-6f16e34a27ed"
      },
      "source": [
        "bgr = cv2.imread('1.png')\n",
        "wm = 'test'\n",
        "\n",
        "encoder = WatermarkEncoder()\n",
        "encoder.set_watermark('bytes', wm.encode('utf-8'))\n",
        "bgr_encoded = encoder.encode(bgr, 'dwtDctSvd')\n",
        "\n",
        "cv2.imwrite('11_svd.png', bgr_encoded)"
      ],
      "execution_count": null,
      "outputs": [
        {
          "output_type": "execute_result",
          "data": {
            "text/plain": [
              "True"
            ]
          },
          "metadata": {},
          "execution_count": 9
        }
      ]
    },
    {
      "cell_type": "code",
      "metadata": {
        "id": "TVjR44zEgiub",
        "colab": {
          "base_uri": "https://localhost:8080/"
        },
        "outputId": "96b830ea-8065-40e8-c7d5-9737e5ad1ae9"
      },
      "source": [
        "bgr = cv2.imread('11_svd.png')\n",
        "\n",
        "decoder = WatermarkDecoder('bytes', 32)\n",
        "watermark = decoder.decode(bgr, 'dwtDctSvd')\n",
        "print(watermark.decode('utf-8'))"
      ],
      "execution_count": null,
      "outputs": [
        {
          "output_type": "stream",
          "name": "stdout",
          "text": [
            "test\n"
          ]
        }
      ]
    },
    {
      "cell_type": "markdown",
      "metadata": {
        "id": "c4ufdD1-CkM2"
      },
      "source": [
        "# Attack Model"
      ]
    },
    {
      "cell_type": "code",
      "metadata": {
        "id": "fv59rEoJglhS"
      },
      "source": [
        "def gaussian(img, output_file_name):\n",
        "    img_shape = img.shape\n",
        "    gauss_img = random_noise(img, mode='gaussian', mean=0, var=0.01, clip= True)\n",
        "    gauss_img = np.array(255*gauss_img, dtype = 'uint8')\n",
        "    cv2.imwrite(output_file_name, gauss_img)\n",
        "\n",
        "def salt_pepper(img, output_file_name):\n",
        "    ratio = 0.1 #Probability of the noise\n",
        "    snp_img = np.zeros(img.shape,np.uint8)\n",
        "    thres = 1 - ratio\n",
        "    for i in range(img.shape[0]):\n",
        "        for j in range(img.shape[1]):\n",
        "            rdn = random.random()\n",
        "            if rdn < ratio:\n",
        "                snp_img[i][j] = 0\n",
        "            elif rdn > thres:\n",
        "                snp_img[i][j] = 255\n",
        "            else:\n",
        "                snp_img[i][j] = img[i][j]\n",
        "    cv2.imwrite(output_file_name, snp_img)\n",
        "    \n",
        "def speckle(img, output_file_name):\n",
        "    speckle_img = random_noise(img, mode='speckle', mean=0, var=0.01, clip= True)\n",
        "    # The above function returns a floating-point image on the range [0, 1], thus we changed it to 'uint8' and from [0,255]\n",
        "    speckle_img = np.array(255*speckle_img, dtype = 'uint8')\n",
        "    cv2.imwrite(output_file_name, speckle_img)\n",
        "    \n",
        "def poisson(img, output_file_name):\n",
        "    img_shape = img.shape\n",
        "    noise = np.random.poisson(30, img_shape)\n",
        "    output = img + noise\n",
        "    cv2.imwrite(output_file_name, output)\n",
        "    \n",
        "def rotate(img, output_file_name, angle=10):\n",
        "    rows, cols, _ = img.shape\n",
        "    M = cv2.getRotationMatrix2D(center=(cols / 2, rows / 2), angle=angle, scale=1)\n",
        "    output_img = cv2.warpAffine(img, M, (cols, rows))\n",
        "    cv2.imwrite(output_file_name, output_img)\n",
        "    \n",
        "def upscale(img, output_file_name):\n",
        "    img_shape = img.shape\n",
        "    output_img = cv2.resize(img, None, fx=1.25, fy=1.25, interpolation = cv2.INTER_CUBIC)\n",
        "    cv2.imwrite(output_file_name, output_img)\n",
        "    \n",
        "def downscale(img, output_file_name):\n",
        "    img_shape = img.shape\n",
        "    output_img = cv2.resize(img, None, fx=0.75, fy=0.75, interpolation = cv2.INTER_CUBIC)\n",
        "    cv2.imwrite(output_file_name, output_img)\n",
        "    \n",
        "def averaging(img, output_file_name):\n",
        "    img_shape = img.shape\n",
        "    output_img = cv2.blur(img,(5,5)) \n",
        "    cv2.imwrite(output_file_name, output_img)\n",
        "    \n",
        "def gaussian_blurring(img, output_file_name):\n",
        "    img_shape = img.shape\n",
        "    output_img = cv2.GaussianBlur(img,(5,5),0) \n",
        "    cv2.imwrite(output_file_name, output_img)\n",
        "    \n",
        "def median_blurring(img, output_file_name):\n",
        "    output_img = cv2.medianBlur(img,5)\n",
        "    cv2.imwrite(output_file_name, output_img)\n",
        "    \n",
        "def bilateral_filtering(img, output_file_name):\n",
        "    output_img = cv2.bilateralFilter(img,9,75,75)\n",
        "    cv2.imwrite(output_file_name, output_img)\n",
        "    \n",
        "def sharpen_filtering(img, output_file_name):\n",
        "    sharpen_filter = np.array([[-1, -1, -1], [-1, 9, -1], [-1, -1, -1]])\n",
        "    sharped_img = cv2.filter2D(img, -1, sharpen_filter)\n",
        "    cv2.imwrite(output_file_name, sharped_img)\n",
        "\n",
        "def crop_horizontal(img, output_file_name):\n",
        "    ratio = 0.5  #Only left 20%\n",
        "    img_shape = img.shape\n",
        "    height = int(img_shape[0] * ratio)\n",
        "    horizontal_img = img[:height, :, :]\n",
        "    cv2.imwrite(output_file_name, horizontal_img)\n",
        "\n",
        "def crop_vertical(img, output_file_name):\n",
        "    ratio = 0.5\n",
        "    img_shape = img.shape\n",
        "    vertical = int(img_shape[1] * ratio)\n",
        "    vertical_img = img[:, :vertical, :]\n",
        "    cv2.imwrite(output_file_name, vertical_img)\n",
        "\n",
        "def increase_brightness(img, output_file_name):\n",
        "    ratio = 1.1 # +50% brightness\n",
        "    inc_bright_img = img * ratio\n",
        "    inc_bright_img[inc_bright_img > 255] = 255\n",
        "    cv2.imwrite(output_file_name, inc_bright_img)\n",
        "    \n",
        "def decrease_brightness(img, output_file_name):\n",
        "    ratio = 0.9 # -50% brightness\n",
        "    dec_bright_img = img * ratio\n",
        "    dec_bright_img[dec_bright_img > 255] = 255\n",
        "    cv2.imwrite(output_file_name, dec_bright_img)\n",
        "    \n",
        "def masks(img, output_file_name):\n",
        "    n = 5 # Set 2 mask\n",
        "    ratio = 0.3 # mask ratio\n",
        "    input_img_shape = img.shape\n",
        "    mask_img = img.copy()\n",
        "    for i in range(n):\n",
        "        tmp = np.random.rand() * (1 - ratio)  # random one place to put mask，1-ratio to avoid overfloat\n",
        "        start_height, end_height = int(tmp * input_img_shape[0]), int((tmp + ratio) * input_img_shape[0])\n",
        "        tmp = np.random.rand() * (1 - ratio)\n",
        "        start_width, end_width = int(tmp * input_img_shape[1]), int((tmp + ratio) * input_img_shape[1])\n",
        "\n",
        "        mask_img[start_height:end_height, start_width:end_width, :] = 0\n",
        "    cv2.imwrite(output_file_name, mask_img)"
      ],
      "execution_count": null,
      "outputs": []
    },
    {
      "cell_type": "markdown",
      "metadata": {
        "id": "hSilD27tCvON"
      },
      "source": [
        "# Main "
      ]
    },
    {
      "cell_type": "code",
      "metadata": {
        "id": "StmlyUDOEtCQ"
      },
      "source": [
        "def attack_method(input_image, image_name):\n",
        "    print('Attacking ' + image_name)\n",
        "\n",
        "    algorithmn = []\n",
        "\n",
        "    for i in algorithmn:\n",
        "\n",
        "    gaussian(input_image, 'Attack/MRI_1/Algo_A/Guassian.png')\n",
        "    salt_pepper(input_image, 'Attack/MRI_1/Algo_A/Salt_pepper.png')\n",
        "    speckle(input_image, 'Attack/MRI_1/Algo_A/Speckle.png')\n",
        "    poisson(input_image, 'Attack/MRI_1/Algo_A/Poisson.png')\n",
        "    rotate(input_image, 'Attack/MRI_1/Algo_A/Rotate.png', angle=10)\n",
        "    upscale(input_image, 'Attack/MRI_1/Algo_A/Upscale.png')\n",
        "    downscale(input_image, 'Attack/MRI_1/Algo_A/Downscale.png')\n",
        "    averaging(input_image, 'Attack/MRI_1/Algo_A/Averaging.png')\n",
        "    gaussian_blurring(input_image, 'Attack/MRI_1/Algo_A/Gaussian_blurring.png')\n",
        "    median_blurring(input_image, 'Attack/MRI_1/Algo_A/Median_blurring.png')\n",
        "    bilateral_filtering(input_image, 'Attack/MRI_1/Algo_A/Bilateral_filtering.png')\n",
        "    sharpen_filtering(input_image, 'Attack/MRI_1/Algo_A/Sharpen_filtering.png')\n",
        "    crop_horizontal(input_image, 'Attack/MRI_1/Algo_A/Crop_horizontal.png')\n",
        "    crop_vertical(input_image, 'Attack/MRI_1/Algo_A/Crop_vertical.png')\n",
        "    increase_brightness(input_image, 'Attack/MRI_1/Algo_A/Increase_brightness.png')\n",
        "    decrease_brightness(input_image, 'Attack/MRI_1/Algo_A/Decrease_brightness.png')\n",
        "    masks(input_image, 'Attack/MRI_1/Algo_A/Masks.png')\n",
        "    cv2.imwrite('Attack/MRI_1/Algo_A/' + image_name.split('.')[0] + '.jpg', input_image)\n"
      ],
      "execution_count": null,
      "outputs": []
    },
    {
      "cell_type": "code",
      "metadata": {
        "id": "LUlNmfJ51giG"
      },
      "source": [
        ""
      ],
      "execution_count": null,
      "outputs": []
    },
    {
      "cell_type": "code",
      "metadata": {
        "id": "4wwMeF1JhLv8"
      },
      "source": [
        "wm_list = ['11_blind.png', '11_wm.png', '11_rg.png', '11_svd.png']\n",
        "\n",
        "# imdir = 'Attack/MRI_1/Algo_A/'\n",
        "# ext = ['png', 'jpg'] \n",
        "\n",
        "# files = []\n",
        "# [files.extend(glob.glob(imdir + '*.' + e)) for e in ext]\n",
        "\n",
        "# image_list = [(file) for file in files]\n",
        "\n",
        "# algo=[Algo_A,Algo_B,AlgoC]\n",
        "# for  x in algo:\n",
        "# attack path = 'Attack/MRI_1'+x+''\n",
        "\n",
        "def attacking(): \n",
        "    image_1_name = wm_list[0]\n",
        "    image_2_name = wm_list[1]\n",
        "    image_3_name = wm_list[2]\n",
        "    image_4_name = wm_list[3]\n",
        "\n",
        "    image_1 = cv2.imread(image_1_name)\n",
        "    image_2 = cv2.imread(image_2_name)\n",
        "    image_3 = cv2.imread(image_3_name)\n",
        "    image_4 = cv2.imread(image_4_name)\n",
        "\n",
        "    attack_method(image_1, image_1_name)\n",
        "    attack_method(image_2, image_2_name)\n",
        "    attack_method(image_3, image_3_name)\n",
        "    attack_method(image_4, image_4_name)\n",
        "\n",
        "    print('Done Attacking')"
      ],
      "execution_count": null,
      "outputs": []
    },
    {
      "cell_type": "code",
      "metadata": {
        "id": "OYyv2n-XC2y3"
      },
      "source": [
        "def Watermarking(): \n",
        "    a = input(\"Image Watermarking \\n 1. Encode the data \\n 2. Attacking \\n 3. Decode the data \\n Your input is: \")\n",
        "    userinput = int(a)\n",
        "    if (userinput == 1):\n",
        "        print(\"\\nEncoding....\")\n",
        "#         encode_text() \n",
        "          \n",
        "    elif (userinput == 2):\n",
        "        print(\"\\nAttacking....\") \n",
        "        attacking()\n",
        "\n",
        "    elif (userinput == 3):\n",
        "        print(\"\\nDecoding....\") \n",
        "        # attacking()\n",
        "\n",
        "    else: \n",
        "        raise Exception(\"Enter correct input\") "
      ],
      "execution_count": null,
      "outputs": []
    },
    {
      "cell_type": "code",
      "metadata": {
        "colab": {
          "base_uri": "https://localhost:8080/"
        },
        "id": "lANq7DwwC3Sf",
        "outputId": "5bfcf8b4-405d-4cc4-f5fd-b60d9517c333"
      },
      "source": [
        "Watermarking()"
      ],
      "execution_count": null,
      "outputs": [
        {
          "output_type": "stream",
          "name": "stdout",
          "text": [
            "Image Watermarking \n",
            " 1. Encode the data \n",
            " 2. Attacking \n",
            " 3. Decode the data \n",
            " Your input is: 2\n",
            "\n",
            "Attacking....\n",
            "Attacking 11_blind.png\n",
            "Attacking 11_wm.png\n",
            "Attacking 11_rg.png\n",
            "Attacking 11_svd.png\n",
            "Done Attacking\n"
          ]
        }
      ]
    },
    {
      "cell_type": "code",
      "metadata": {
        "id": "M-5F1briQDjJ"
      },
      "source": [
        ""
      ],
      "execution_count": null,
      "outputs": []
    }
  ]
}